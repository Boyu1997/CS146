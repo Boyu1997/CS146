{
 "cells": [
  {
   "cell_type": "code",
   "execution_count": 1,
   "metadata": {},
   "outputs": [],
   "source": [
    "import pandas as pd\n",
    "\n",
    "data = pd.read_csv('socialmobility.csv')"
   ]
  },
  {
   "cell_type": "code",
   "execution_count": null,
   "metadata": {},
   "outputs": [],
   "source": [
    "from scipy import stats\n",
    "import numpy as np\n",
    "import pandas as pd\n",
    "\n",
    "df_subset = df[df.father == \"unskilled\"]\n",
    "alpha_priors = np.repeat(1, len(df_subset))\n",
    "alpha_posteriors = [alpha_priors[i] + df_subset['count'].iloc[i] for i in range(len(df_subset))]\n",
    "dist = stats.dirichlet(alpha_posteriors)\n",
    "samples = dist.rvs(size=100000)\n",
    "print(\"The 95% CI for the probability that a son will be come a skilled laborer \\nif his father \\\n",
    "was an unskilled laborer is:\", np.percentile(samples[:,2], [2.5, 97.5]))\n",
    "\n",
    "df_subset = df[df.son == \"professional\"]\n",
    "alpha_priors = np.repeat(1, len(df_subset))\n",
    "alpha_posteriors = [alpha_priors[i] + df_subset['count'].iloc[i] for i in range(len(df_subset))]\n",
    "dist = stats.dirichlet(alpha_posteriors)\n",
    "samples = dist.rvs(size=100000)\n",
    "print(\"The 95% CI for the probability that a father works on a farm \\nif his son \\\n",
    "works as a professional is:\", np.percentile(samples[:,0], [2.5, 97.5]))"
   ]
  }
 ],
 "metadata": {
  "kernelspec": {
   "display_name": "Python 3",
   "language": "python",
   "name": "python3"
  },
  "language_info": {
   "codemirror_mode": {
    "name": "ipython",
    "version": 3
   },
   "file_extension": ".py",
   "mimetype": "text/x-python",
   "name": "python",
   "nbconvert_exporter": "python",
   "pygments_lexer": "ipython3",
   "version": "3.6.4"
  }
 },
 "nbformat": 4,
 "nbformat_minor": 2
}
