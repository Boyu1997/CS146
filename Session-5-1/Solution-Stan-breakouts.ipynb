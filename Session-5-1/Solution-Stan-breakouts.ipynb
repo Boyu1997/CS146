{
 "cells": [
  {
   "cell_type": "code",
   "execution_count": 1,
   "metadata": {
    "collapsed": false
   },
   "outputs": [
   ],
   "source": [
    "import pystan\n",
    "\n",
    "import numpy as np\n",
    "import matplotlib.pyplot as plt"
   ]
  },
  {
   "cell_type": "code",
   "execution_count": 2,
   "metadata": {
    "collapsed": false
   },
   "outputs": [
   ],
   "source": [
    "eczema_data = {\n",
    "    'treatment': {\n",
    "        'alpha': 1,  # fixed prior hyperparameters for the\n",
    "        'beta': 1,   # beta distribution\n",
    "        'num_trials': 6,  # number of trials in the data set\n",
    "        'patients': [23, 16, 16, 45, 31, 10],  # number of patients per trial\n",
    "        'improved': [20, 10, 13, 35, 22, 7]},  # number of improved patients per trial\n",
    "    'control': {\n",
    "        'alpha': 1,\n",
    "        'beta': 1,\n",
    "        'num_trials': 6,\n",
    "        'patients': [15, 18, 10, 39, 29, 10],\n",
    "        'improved': [9, 11, 4, 21, 12, 0]}}"
   ]
  },
  {
   "cell_type": "markdown",
   "metadata": {
    "collapsed": false
   },
   "source": [
    "## Old model\n",
    "* The same probability of success, $p$, is used in each study.\n",
    "* The probability of success is unknown and assumed to come from a uniform prior.\n",
    "\n",
    "$$\\begin{align}\n",
    "p &\\sim \\text{Beta}(\\alpha=1, \\beta=1) \\\\\n",
    "k_{i} &\\sim \\text{Binomial}(n_{i}, p) \\qquad i=1,2,\\ldots 6\n",
    "\\end{align}$$"
   ]
  },
  {
   "cell_type": "code",
   "execution_count": 3,
   "metadata": {
    "collapsed": false
   },
   "outputs": [
   ],
   "source": [
    "stan_code = \"\"\"\n",
    "\n",
    "// The data block contains all known quantities - typically the observed\n",
    "// data and any constant hyperparameters.\n",
    "data {\n",
    "    int<lower=1> num_trials;  // number of trials in the data set\n",
    "    int<lower=0> patients[num_trials];  // number of patients per trial\n",
    "    int<lower=0> improved[num_trials];  // number of improved patients per trial\n",
    "    real<lower=0> alpha;  // fixed prior hyperparameter\n",
    "    real<lower=0> beta;   // fixed prior hyperparameter\n",
    "}\n",
    "\n",
    "// The parameters block contains all unknown quantities - typically the\n",
    "// parameters of the model. Stan will generate samples from the posterior\n",
    "// distributions over all parameters.\n",
    "parameters {\n",
    "    real<lower=0,upper=1> p;  // probability of improvement - the\n",
    "                              // parameter of the binomial likelihood\n",
    "}\n",
    "\n",
    "// The model block contains all probability distributions in the model.\n",
    "// This of this as specifying the generative model for the scenario.\n",
    "model {\n",
    "    p ~ beta(alpha, beta);  // prior over p\n",
    "    for(i in 1:num_trials) {\n",
    "        improved[i] ~ binomial(patients[i], p);  // likelihood function\n",
    "    }\n",
    "}\n",
    "\n",
    "\"\"\""
   ]
  },
  {
   "cell_type": "code",
   "execution_count": 4,
   "metadata": {
    "collapsed": false
   },
   "outputs": [
    {
     "name": "stderr",
     "output_type": "stream",
     "text": [
      "INFO:pystan:COMPILING THE C++ CODE FOR MODEL anon_model_ee893fad8aee952ea79ac031a6d3875a NOW.\n"
     ]
    }
   ],
   "source": [
    "# Compile model\n",
    "\n",
    "stan_model = pystan.StanModel(model_code=stan_code)"
   ]
  },
  {
   "cell_type": "code",
   "execution_count": 5,
   "metadata": {
    "collapsed": false
   },
   "outputs": [
    {
     "data": {
      "image/png": "[encoded data removed]"
     },
     "execution_count": 5,
     "metadata": {
      "image/png": {
       "height": 263,
       "width": 482
      },
      "needs_background": "light"
     },
     "output_type": "execute_result"
    },
    {
     "name": "stdout",
     "output_type": "stream",
     "text": [
      "Posterior 95% interval over p for treatment: [0.68266252 0.82211087]\n",
      "Posterior 95% interval over p for control: [0.38372514 0.56024562]\n"
     ]
    }
   ],
   "source": [
    "# Generate posterior samples\n",
    "\n",
    "results_treatment = stan_model.sampling(data=eczema_data['treatment'])\n",
    "results_control = stan_model.sampling(data=eczema_data['control'])\n",
    "\n",
    "# Plot posterior histograms\n",
    "\n",
    "samples_treatment = results_treatment.extract()\n",
    "samples_control = results_control.extract()\n",
    "\n",
    "plt.figure(figsize=(8,4))\n",
    "plt.hist(samples_treatment['p'], bins=50, density=True, label='treatment')\n",
    "plt.hist(samples_control['p'], bins=50, density=True, label='control')\n",
    "plt.title('Sampled posterior probability density for p')\n",
    "plt.legend()\n",
    "plt.show()\n",
    "\n",
    "print('Posterior 95% interval over p for treatment:', np.percentile(samples_treatment['p'], [2.5, 97.5]))\n",
    "print('Posterior 95% interval over p for control:', np.percentile(samples_control['p'], [2.5, 97.5]))"
   ]
  },
  {
   "cell_type": "markdown",
   "metadata": {
    "collapsed": false
   },
   "source": [
    "## New model\n",
    "* A different probability of success, $p_i$, is used in each study.\n",
    "* However these probabilities are assumed to come from a common Beta prior with unknown parameters $\\alpha$ and $\\beta$.\n",
    "* An exponential prior is placed over $\\alpha$ and $\\beta$ such that almost all of the probability mass is between 0 and 10.\n",
    "\n",
    "$$\\begin{align}\n",
    "\\alpha &\\sim \\text{Exponential}(\\lambda=0.5) \\\\\n",
    "\\beta &\\sim \\text{Exponential}(\\lambda=0.5) \\\\\n",
    "p_i &\\sim \\text{Beta}(\\alpha, \\beta)\\\\\n",
    "k_{i} &\\sim \\text{Binomial}(n_{i}, p_i) \\qquad i=1,2,\\ldots 6\n",
    "\\end{align}$$"
   ]
  },
  {
   "cell_type": "code",
   "execution_count": 6,
   "metadata": {
    "collapsed": false
   },
   "outputs": [
   ],
   "source": [
    "stan_code = \"\"\"\n",
    "\n",
    "data {\n",
    "    int<lower=1> num_trials;  // number of trials in the data set\n",
    "    int<lower=0> patients[num_trials];  // number of patients per trial\n",
    "    int<lower=0> improved[num_trials];  // number of improved patients per trial\n",
    "}\n",
    "\n",
    "parameters {\n",
    "    real<lower=0,upper=1> p[num_trials];\n",
    "    real<lower=0> alpha;\n",
    "    real<lower=0> beta;\n",
    "}\n",
    "\n",
    "model {\n",
    "    alpha ~ exponential(0.5);\n",
    "    beta ~ exponential(0.5);\n",
    "    for(i in 1:num_trials) {\n",
    "        p[i] ~ beta(alpha, beta);\n",
    "      improved[i] ~ binomial(patients[i], p[i]);\n",
    "    }\n",
    "}\n",
    "\n",
    "\"\"\""
   ]
  },
  {
   "cell_type": "code",
   "execution_count": 7,
   "metadata": {
    "collapsed": false
   },
   "outputs": [
    {
     "name": "stderr",
     "output_type": "stream",
     "text": [
      "INFO:pystan:COMPILING THE C++ CODE FOR MODEL anon_model_d9f2012fd953c8933e83db8c44be56dc NOW.\n"
     ]
    }
   ],
   "source": [
    "# Compile model\n",
    "\n",
    "stan_model = pystan.StanModel(model_code=stan_code)"
   ]
  },
  {
   "cell_type": "code",
   "execution_count": 0,
   "metadata": {
    "collapsed": false
   },
   "outputs": [
   ],
   "source": [
    "# Generate posterior samples\n",
    "\n",
    "results_treatment = stan_model.sampling(data=eczema_data['treatment'])\n",
    "results_control = stan_model.sampling(data=eczema_data['control'])"
   ]
  },
  {
   "cell_type": "code",
   "execution_count": 0,
   "metadata": {
    "collapsed": false
   },
   "outputs": [
   ],
   "source": [
    "# Print Stan summary of parameter posteriors\n",
    "\n",
    "print('\\nTreatment group results:\\n')\n",
    "print(results_treatment.stansummary(pars=['p', 'alpha', 'beta'], probs=[0.025, 0.975]))\n",
    "print('\\nControl group results:\\n')\n",
    "print(results_control.stansummary(pars=['p', 'alpha', 'beta'], probs=[0.025, 0.975]))"
   ]
  },
  {
   "cell_type": "code",
   "execution_count": 0,
   "metadata": {
    "collapsed": false
   },
   "outputs": [
   ],
   "source": [
    "# Generate posterior samples\n",
    "\n",
    "results_treatment = stan_model.sampling(data=eczema_data['treatment'])\n",
    "results_control = stan_model.sampling(data=eczema_data['control'])\n",
    "\n",
    "# Plot posterior histograms\n",
    "\n",
    "samples_treatment = results_treatment.extract()\n",
    "samples_control = results_control.extract()\n",
    "\n",
    "plt.figure(figsize=(8,4))\n",
    "plt.hist(samples_treatment['alpha'], bins=50, density=True, label='alpha', alpha=0.5)\n",
    "plt.hist(samples_treatment['beta'], bins=50, density=True, label='beta', alpha=0.5)\n",
    "plt.title('Sampled posterior probability density for the treatment group')\n",
    "plt.legend()\n",
    "\n",
    "plt.figure(figsize=(8,4))\n",
    "plt.hist(samples_control['alpha'], bins=50, density=True, label='alpha', alpha=0.5)\n",
    "plt.hist(samples_control['beta'], bins=50, density=True, label='beta', alpha=0.5)\n",
    "plt.title('Sampled posterior probability density for the control group')\n",
    "plt.legend()\n",
    "\n",
    "plt.show()"
   ]
  },
  {
   "cell_type": "code",
   "execution_count": 0,
   "metadata": {
    "collapsed": false
   },
   "outputs": [
   ],
   "source": [
    "# Posterior histograms over the probabilities of success\n",
    "\n",
    "plt.figure(figsize=(8,4))\n",
    "for i in range(6):\n",
    "    plt.hist(samples_treatment['p'][:,i], bins=50, density=True, alpha=0.33)\n",
    "plt.title('Sampled posterior probability density for the treatment group')\n",
    "\n",
    "plt.figure(figsize=(8,4))\n",
    "for i in range(6):\n",
    "    plt.hist(samples_control['p'][:,i], bins=50, density=True, alpha=0.33)\n",
    "plt.title('Sampled posterior probability density for the control group')\n",
    "\n",
    "plt.show()"
   ]
  },
  {
   "cell_type": "code",
   "execution_count": 0,
   "metadata": {
    "collapsed": false
   },
   "outputs": [
   ],
   "source": [
   ]
  }
 ],
 "metadata": {
  "kernelspec": {
   "display_name": "Python 3 (Anaconda 5)",
   "language": "python",
   "name": "anaconda5"
  },
  "language_info": {
   "codemirror_mode": {
    "name": "ipython",
    "version": 3
   },
   "file_extension": ".py",
   "mimetype": "text/x-python",
   "name": "python",
   "nbconvert_exporter": "python",
   "pygments_lexer": "ipython3",
   "version": "3.6.5"
  }
 },
 "nbformat": 4,
 "nbformat_minor": 0
}