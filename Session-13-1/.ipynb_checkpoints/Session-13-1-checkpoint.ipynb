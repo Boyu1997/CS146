{
 "cells": [
  {
   "cell_type": "code",
   "execution_count": null,
   "metadata": {},
   "outputs": [],
   "source": [
    "import scipy.stats as sts\n",
    "import matplotlib.pyplot as plt\n",
    "import numpy as np\n",
    "\n",
    "def p_pdf(x):\n",
    "    '''Proposal distribution.'''\n",
    "    return (sts.norm(-4, 0.5).pdf(x) + sts.norm(4, 1).pdf(x))\n",
    "\n",
    "# Global parameter\n",
    "iterations = 1000\n",
    "\n",
    "def run_metropolis(target_pdf, epsilon):\n",
    "    '''Run the Metropolis-Hastings algorithm for the target pdf and epsilon.'''\n",
    "    samples = np.zeros(iterations)          # storage vector\n",
    "    current_sample = sts.norm(0, 3).rvs()   # initial stage\n",
    "    isAccepted = np.zeros(iterations)\n",
    "    \n",
    "    for i in range(iterations):\n",
    "        draw = sts.norm.rvs(current_sample, epsilon)\n",
    "        acceptance_prob = target_pdf(draw) / target_pdf(current_sample)\n",
    "        if acceptance_prob >= 1 or np.random.random_sample() < acceptance_prob:\n",
    "            current_sample = draw\n",
    "            isAccepted[i] = 1\n",
    "        samples[i] = current_sample\n",
    "    return(samples, isAccepted)      \n",
    "    \n",
    "plt.figure(figsize=(16,10))\n",
    "\n",
    "for i, epsilon in enumerate([0.5, 1, 2, 4]):\n",
    "    samples, isAccepted = run_metropolis(p_pdf, epsilon)\n",
    "    x = np.linspace(-6, 8, 200)\n",
    "    \n",
    "    plt.subplot(2, 2, i+1)\n",
    "    plt.plot(x, p_pdf(x), color=\"black\")\n",
    "    plt.plot(samples, sts.uniform.rvs(loc=-0.04, scale=0.03, size=iterations), \n",
    "             'gx', markersize = 0.8, alpha=0.3)\n",
    "    plt.plot(samples, np.linspace(0, 1, iterations), alpha=0.3, color=\"red\")\n",
    "    plt.title(r'$\\epsilon = {:.1f}$, Acceptance Rate = {:.2f}'.format(epsilon, np.mean(isAccepted)))\n",
    "    plt.ylim([-0.06, 1])\n",
    "\n",
    "plt.show()"
   ]
  },
  {
   "cell_type": "code",
   "execution_count": null,
   "metadata": {},
   "outputs": [],
   "source": []
  }
 ],
 "metadata": {
  "kernelspec": {
   "display_name": "Python 3",
   "language": "python",
   "name": "python3"
  },
  "language_info": {
   "codemirror_mode": {
    "name": "ipython",
    "version": 3
   },
   "file_extension": ".py",
   "mimetype": "text/x-python",
   "name": "python",
   "nbconvert_exporter": "python",
   "pygments_lexer": "ipython3",
   "version": "3.7.1"
  }
 },
 "nbformat": 4,
 "nbformat_minor": 2
}
