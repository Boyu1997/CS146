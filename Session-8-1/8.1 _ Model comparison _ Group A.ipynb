{
 "cells": [
  {
   "cell_type": "markdown",
   "metadata": {
    "collapsed": false
   },
   "source": [
    "# Marginal likelihood for hierarchical model\n",
    "\n",
    "|Study          | Treatment group |   Control group  |\n",
    "|---------------|-----------------|------------------|\n",
    "|Di Rienzo 2014 |     20 / 23     |        9 / 15    |\n",
    "|Galli 1994     |     10 / 16     |       11 / 18    |\n",
    "|Kaufman 1974   |     13 / 16     |        4 / 10    |\n",
    "|Qin 2014       |     35 / 45     |       21 / 39    |\n",
    "|Sanchez 2012   |     22 / 31     |       12 / 29    |\n",
    "|Silny 2006     |      7 / 10     |        0 / 10    |\n",
    "|**Totals**     |    107 / 141    |       57 / 121   |"
   ]
  },
  {
   "cell_type": "markdown",
   "metadata": {
    "collapsed": false
   },
   "source": [
    "**Model 2:** According to the hierarchical model with binomial likelihood, beta priors, and Gamma(2, 0.5) hyperpriors, the marginal likelihood is\n",
    "\n",
    "$$ P(\\text{data}) = \\left[\\prod_{i=1}^6 (s_i+f_i+1)\\,\\text{B}(s_i+1,f_i+1) \\right]^{-1} \\int_0^{\\infty}\\int_0^{\\infty} P(\\alpha,\\beta)\\, \\text{B}(\\alpha,\\beta)^{-6} \\prod_{i=1}^6 \\text{B}(\\alpha+s_i, \\beta+f_i)\\ \\text{d}\\beta\\,\\text{d}\\alpha$$\n",
    "\n",
    "where\n",
    "\n",
    "$$ P(\\alpha,\\beta) = \\text{Gamma}(\\alpha\\,|\\,2,0.5)\\,\\text{Gamma}(\\beta\\,|\\,2,0.5) $$\n",
    "\n",
    "## Task 1\n",
    "Read through the code below and discuss how these functions compute the marginal likelihood of the hierarchical model."
   ]
  },
  {
   "cell_type": "code",
   "execution_count": 1,
   "metadata": {
    "collapsed": false
   },
   "outputs": [
   ],
   "source": [
    "import numpy as np\n",
    "import scipy.stats as sts\n",
    "from scipy import special\n",
    "from scipy.integrate import nquad\n",
    "\n",
    "\n",
    "# The integrand for the double integral over a (alpha) and b (beta).\n",
    "def integrand(a, b, data):\n",
    "    n = data.shape[1]  # Number of data\n",
    "    integrand = (\n",
    "        sts.gamma(a=2, scale=1/0.5).pdf(a) *\n",
    "        sts.gamma(a=2, scale=1/0.5).pdf(b) *\n",
    "        special.beta(a, b) ** -n *\n",
    "        np.product(special.beta(a + data[0,:], b + data[1,:])))\n",
    "    return integrand\n",
    "\n",
    "\n",
    "def hierarchical_marginal_likelihood(data):\n",
    "    # Compute the constant outside the double integral\n",
    "    constant = np.product((data[0,:] + data[1,:] + 1) * special.beta(data[0,:] + 1, data[1,:] + 1))\n",
    "\n",
    "    # Compute the double integral.\n",
    "    # NOTE: After much experimentation, the upper bounds of dblquad are set\n",
    "    # to 50 rather than inf since the integral just diverges if you try inf.\n",
    "    # It shouldn't, but it does.\n",
    "    integral, error = nquad(integrand, ranges=[(0, 50), (0, 50)], args=[data])\n",
    "\n",
    "    return {\n",
    "        'marginal_likelihood': integral / constant,  # Value of the integral\n",
    "        'error': error / constant}  # Numerical error in integral"
   ]
  },
  {
   "cell_type": "code",
   "execution_count": 2,
   "metadata": {
    "collapsed": false,
    "scrolled": true
   },
   "outputs": [
   ],
   "source": [
    "data_treatment = np.array([[20, 10, 13, 35, 22, 7], [3, 6, 3, 10, 9, 3]])\n",
    "data_control = np.array([[9, 11, 4, 21, 12, 0], [6, 7, 6, 18, 17, 10]])"
   ]
  },
  {
   "cell_type": "markdown",
   "metadata": {
    "collapsed": false
   },
   "source": [
    "## Task 2\n",
    "Compute the marginal likelihood for the hierarchical model for each of the treatment and control group data sets."
   ]
  },
  {
   "cell_type": "code",
   "execution_count": 5,
   "metadata": {
    "collapsed": false
   },
   "outputs": [
    {
     "name": "stdout",
     "output_type": "stream",
     "text": [
      "Treatment {'marginal_likelihood': 1.4579106203822117e-07, 'error': 8.684205211169477e-08}\n"
     ]
    },
    {
     "name": "stdout",
     "output_type": "stream",
     "text": [
      "Control {'marginal_likelihood': 2.4349786578049566e-08, 'error': 8.494153804343146e-09}\n"
     ]
    }
   ],
   "source": [
    "print(\"Treatment\", hierarchical_marginal_likelihood(data_treatment))\n",
    "print(\"Control\", hierarchical_marginal_likelihood(data_control))"
   ]
  },
  {
   "cell_type": "markdown",
   "metadata": {
    "collapsed": false
   },
   "source": [
    "## Task 3\n",
    "\n",
    "From the previous activity, the marginal likelihoods for the non-hierarchical model were:\n",
    "* Treatment group data: $8.234592 \\times 10^{-7}$\n",
    "* Control group data: $5.636806 \\times 10^{-9}$\n",
    "\n",
    "Compare the marginal likelihoods for the non-hierarchical and hierarchical models on each of the treatment and control group data sets.\n",
    "1. Is the non-hierarchical or the hierarchical model better for this data set?\n",
    "2. Explain why the one model is better than the other."
   ]
  },
  {
   "cell_type": "code",
   "execution_count": 7,
   "metadata": {
    "collapsed": false
   },
   "outputs": [
   ],
   "source": [
    "model1_treat = 8.234592e-7\n",
    "model1_control = 5.636806e-9\n",
    "model2_treat = 1.4579106203822117e-07\n",
    "model2_control = 2.4349786578049566e-08"
   ]
  },
  {
   "cell_type": "markdown",
   "metadata": {
    "collapsed": false
   },
   "source": [
    "Hierarchical\n",
    "\n",
    "* Treatment group data: $1.4579 \\times 10^{-7}$\n",
    "* Control group data: $2.43497 \\times 10^{-8}$"
   ]
  },
  {
   "cell_type": "code",
   "execution_count": 8,
   "metadata": {
    "collapsed": false
   },
   "outputs": [
    {
     "data": {
      "text/plain": [
       "5.648214564649503"
      ]
     },
     "execution_count": 8,
     "metadata": {
     },
     "output_type": "execute_result"
    }
   ],
   "source": [
    "model1_treat/model2_treat"
   ]
  },
  {
   "cell_type": "code",
   "execution_count": 9,
   "metadata": {
    "collapsed": false
   },
   "outputs": [
    {
     "data": {
      "text/plain": [
       "0.23149303514148137"
      ]
     },
     "execution_count": 9,
     "metadata": {
     },
     "output_type": "execute_result"
    }
   ],
   "source": [
    "model1_control/model2_control"
   ]
  },
  {
   "cell_type": "code",
   "execution_count": 11,
   "metadata": {
    "collapsed": false
   },
   "outputs": [
    {
     "data": {
      "text/plain": [
       "1.3075223327010344"
      ]
     },
     "execution_count": 11,
     "metadata": {
     },
     "output_type": "execute_result"
    }
   ],
   "source": [
    "model1_treat*model1_control/(model2_treat*model2_control)"
   ]
  },
  {
   "cell_type": "markdown",
   "metadata": {
    "collapsed": false
   },
   "source": [
    "For the treatment data, the first model is more likely, while for the control data, the second model is more likely."
   ]
  },
  {
   "cell_type": "code",
   "execution_count": 0,
   "metadata": {
    "collapsed": false
   },
   "outputs": [
   ],
   "source": [
   ]
  }
 ],
 "metadata": {
  "kernelspec": {
   "display_name": "Python 3 (Anaconda 5)",
   "language": "python",
   "name": "anaconda5"
  },
  "language_info": {
   "codemirror_mode": {
    "name": "ipython",
    "version": 3
   },
   "file_extension": ".py",
   "mimetype": "text/x-python",
   "name": "python",
   "nbconvert_exporter": "python",
   "pygments_lexer": "ipython3",
   "version": "3.6.5"
  }
 },
 "nbformat": 4,
 "nbformat_minor": 0
}