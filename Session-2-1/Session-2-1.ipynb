{
 "cells": [
  {
   "attachments": {},
   "cell_type": "markdown",
   "metadata": {},
   "source": [
    "## Pre-class\n",
    "### Poisson distribution\n",
    "The probability of $x = 4$ if $\\lambda = 2.5$\n",
    "$$P(x=k) = e^{-\\lambda}\\frac{\\lambda^k}{k!} = e^{-2.5}\\frac{2.5^4}{4!} = 0.1336$$\n",
    "The probability $x > 2$ if $\\lambda = 1.5$\n",
    "$$P(x>k) = \\int_{k}^{\\infty}e^{-\\lambda}\\frac{\\lambda^k}{k!} =  \\int_{2}^{\\infty}e^{-1.5}\\frac{1.5^2}{2!} = \\infty$$\n",
    "Incorrect...\n",
    "From the ploter,\n",
    "$$P(x>k) = 0.44217$$\n",
    "\n",
    "### Gamma distribution\n",
    "Gamma distribution graph for $\\alpha = 1$ and $\\beta = 2$.\n",
    "![Gamma-distribution-1.png](https://github.com/Boyu1997/CS146/blob/master/Session-2-1/Gamma-distribution-1.png)\n",
    "Gamma distribution graph for $\\lambda = 0.5$.\n",
    "![Exponential-distribution-1.png](https://github.com/Boyu1997/CS146/blob/master/Session-2-1/Exponential-distribution-1.png)\n",
    "The probability of $0.5 < x < 1$ given $α = 2$ and $β = 3$.\n",
    "$$P = 0.55783 - 0.19915 = 0.35868$$\n",
    "\n",
    "### Other distributions\n"
   ]
  },
  {
   "cell_type": "code",
   "execution_count": null,
   "metadata": {},
   "outputs": [],
   "source": []
  }
 ],
 "metadata": {
  "kernelspec": {
   "display_name": "Python 3",
   "language": "python",
   "name": "python3"
  },
  "language_info": {
   "codemirror_mode": {
    "name": "ipython",
    "version": 3
   },
   "file_extension": ".py",
   "mimetype": "text/x-python",
   "name": "python",
   "nbconvert_exporter": "python",
   "pygments_lexer": "ipython3",
   "version": "3.6.4"
  }
 },
 "nbformat": 4,
 "nbformat_minor": 2
}
