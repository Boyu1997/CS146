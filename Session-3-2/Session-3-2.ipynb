{
 "cells": [
  {
   "cell_type": "markdown",
   "metadata": {},
   "source": [
    "# Making predictions and decisions with medical trial data\n",
    "\n",
    "We have data for 6 studies that have been done on the effect of *specific allergen immunotherapy* (SIT) on eczema and the following success rates have been observed. In each of the trials, the investigator rated whether each patient's condition improved or not.\n",
    "\n",
    "This data set is from the [Cochrane Database of Systematic Reviews](http://www.cochranelibrary.com/) article cited below, available for free [here](http://onlinelibrary.wiley.com/doi/10.1002/14651858.CD008774.pub2/full). The Cochrane Database is a great resource for high quality data on all sorts of medical trials.\n",
    "\n",
    "> Tam H., Calderon M.A., Manikam L., Nankervis H., García Núñez I., Williams H.C., Durham S., Boyle R.J. (2016). Specific allergen immunotherapy for the treatment of atopic eczema. *Cochrane Database of Systematic Reviews, Issue 2*. Art. No.: CD008774. DOI: 10.1002/14651858.CD008774.pub2.\n",
    "\n",
    "| Study          | Improved | Not improved |\n",
    "|:-------------- | --------:| ------------:|\n",
    "| Di Rienzo 2014 | 20       | 3            |\n",
    "| Galli 1994     | 10       | 6            |\n",
    "| Kaufman 1974   | 13       | 3            |\n",
    "| Qin 2014       | 35       | 10           |\n",
    "| Sanchez 2012   | 22       | 9            |\n",
    "| Silny 2006     | 7        | 3            |\n",
    "| **Totals**     | **107**  | **34**       |\n",
    "\n",
    "## Task 1: Modeling\n",
    "**Build a statistical model for this data set.** As your data, use the total number of patients improved (107) and not improved (34).\n",
    "\n",
    "**Steps in the modeling process:**\n",
    "1. Choose and motivate for an appropriate likelihood function for this type of data.\n",
    "    1. Make sure the support of your likelihood function matches the type of data we are working with.\n",
    "    2. Describe the unobserved parameter(s) of your model, and describe how it/they can be interpreted.\n",
    "2. Use a conjugate prior distribution for your likelihood function.\n",
    "    1. Select appropriate values for the prior hyperparameters and motivate your choice.\n",
    "    2. Visualize your prior distribution.\n",
    "3. Compute and visualize the posterior distribution over the unobserved parameter(s) of your model. Also describe what the posterior tells you about the parameter(s).\n",
    "\n",
    "Feel free to discuss this task with other students in the course, or attempt it on your own if you prefer. Discussing your modeling ideas with other students is a useful way to get feedback on your assumptions."
   ]
  },
  {
   "cell_type": "code",
   "execution_count": 4,
   "metadata": {},
   "outputs": [],
   "source": [
    "import numpy as np\n",
    "import matplotlib.pyplot as plt\n",
    "from scipy import stats"
   ]
  },
  {
   "cell_type": "code",
   "execution_count": 26,
   "metadata": {},
   "outputs": [
    {
     "data": {
      "image/png": "[encoded data removed]",
      "text/plain": [
       "<Figure size 432x288 with 1 Axes>"
      ]
     },
     "metadata": {},
     "output_type": "display_data"
    },
    {
     "data": {
      "image/png": "[encoded data removed]",
      "text/plain": [
       "<Figure size 432x288 with 1 Axes>"
      ]
     },
     "metadata": {},
     "output_type": "display_data"
    }
   ],
   "source": [
    "# Likelihood: Bernoulli distribution\n",
    "# Prior hyperparameters:\n",
    "alpha_0 = 1\n",
    "beta_0 = 1\n",
    "x = np.linspace(0, 1, 100)\n",
    "plt.plot(stats.beta.pdf(x, alpha_0, beta_0, loc=0, scale=1))\n",
    "plt.show()\n",
    "\n",
    "# Conjugate prior: Beta distribution\n",
    "# Posterior hyperparameters:\n",
    "alpha = alpha_0 + 107\n",
    "beta = beta_0 + (107+34) - 107\n",
    "plt.plot(stats.beta.pdf(x, alpha, beta, loc=0, scale=1))\n",
    "plt.show()"
   ]
  },
  {
   "cell_type": "markdown",
   "metadata": {},
   "source": [
    "## Task 2: Questions, predictions, and decisions\n",
    "1. Posterior predictive distribution: Use your model to predict how many patients would improve if we treated 100 new eczema patients using SIT. Express your answer as a probability distribution over the number of patients improved.\n",
    "2. Use your posterior to answer these questions:\n",
    "    1. What is the probability that at least two thirds of eczema patients get better with SIT?\n",
    "    2. What is the probability that at least 75% of eczema patients get better with SIT?\n",
    "3. Use your model to decide whether the treatment works or not. Motivate your answer."
   ]
  },
  {
   "cell_type": "code",
   "execution_count": 12,
   "metadata": {},
   "outputs": [
    {
     "name": "stdout",
     "output_type": "stream",
     "text": [
      "[0.76378206 0.80076949 0.72329889 0.78602601 0.77359043 0.75800046\n",
      " 0.78747997 0.79790076 0.760044   0.69027921 0.72291619 0.74742786\n",
      " 0.77760446 0.81069671 0.76699218 0.79697141 0.80243349 0.74376521\n",
      " 0.73900791 0.8162589  0.76478048 0.7603937  0.77501953 0.72811236\n",
      " 0.73000938 0.75274528 0.75423564 0.74304112 0.68536358 0.76528366\n",
      " 0.75590172 0.71790039 0.7749872  0.78608673 0.7831377  0.77014373\n",
      " 0.71775073 0.79883758 0.7350588  0.78904154 0.71750276 0.77305867\n",
      " 0.74782194 0.77843591 0.75690879 0.72147163 0.75651602 0.7125234\n",
      " 0.72223791 0.72713703 0.79565588 0.70962617 0.75665427 0.77601138\n",
      " 0.78297373 0.76032226 0.7226816  0.73137535 0.8260762  0.69293419\n",
      " 0.74227198 0.70134228 0.67175968 0.74360754 0.75602701 0.70148976\n",
      " 0.71014924 0.79088802 0.7522162  0.80458987 0.77251147 0.72226861\n",
      " 0.80504123 0.67406632 0.75959882 0.73079154 0.7055138  0.79363888\n",
      " 0.83461515 0.75358886 0.79208165 0.79268499 0.68627713 0.70583221\n",
      " 0.77630539 0.77596966 0.7638909  0.76981012 0.76674437 0.77461448\n",
      " 0.73697449 0.7517736  0.80166623 0.81822252 0.77488973 0.75384088\n",
      " 0.84874872 0.71578005 0.79129284 0.7941739 ]\n"
     ]
    }
   ],
   "source": [
    "p_100 = stats.beta.rvs(alpha, beta, loc=0, scale=1, size=100)\n",
    "print (p_100)"
   ]
  },
  {
   "cell_type": "code",
   "execution_count": 27,
   "metadata": {},
   "outputs": [
    {
     "name": "stdout",
     "output_type": "stream",
     "text": [
      "Alpha: 108 Beta: 35\n"
     ]
    }
   ],
   "source": [
    "print (\"Alpha:\", alpha, \"Beta:\", beta)"
   ]
  },
  {
   "cell_type": "code",
   "execution_count": 28,
   "metadata": {},
   "outputs": [
    {
     "name": "stdout",
     "output_type": "stream",
     "text": [
      "P(>2/3) = 0.740\n",
      "P(>.75) = 0.731\n"
     ]
    }
   ],
   "source": [
    "# use tool from https://homepage.divms.uiowa.edu/~mbognar/applets/beta.html\n",
    "print (\"P(>2/3) = 0.740\")\n",
    "print (\"P(>.75) = 0.731\")"
   ]
  },
  {
   "cell_type": "code",
   "execution_count": null,
   "metadata": {},
   "outputs": [],
   "source": []
  }
 ],
 "metadata": {
  "kernelspec": {
   "display_name": "Python 3",
   "language": "python",
   "name": "python3"
  },
  "language_info": {
   "codemirror_mode": {
    "name": "ipython",
    "version": 3
   },
   "file_extension": ".py",
   "mimetype": "text/x-python",
   "name": "python",
   "nbconvert_exporter": "python",
   "pygments_lexer": "ipython3",
   "version": "3.6.4"
  }
 },
 "nbformat": 4,
 "nbformat_minor": 2
}
