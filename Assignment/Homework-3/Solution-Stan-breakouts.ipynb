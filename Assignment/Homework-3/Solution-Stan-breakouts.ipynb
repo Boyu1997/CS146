{
 "cells": [
  {
   "cell_type": "code",
   "execution_count": 1,
   "metadata": {},
   "outputs": [],
   "source": [
    "import pystan\n",
    "\n",
    "import numpy as np\n",
    "import matplotlib.pyplot as plt"
   ]
  },
  {
   "cell_type": "code",
   "execution_count": 2,
   "metadata": {},
   "outputs": [],
   "source": [
    "eczema_data = {\n",
    "    'treatment': {\n",
    "        'alpha': 1,  # fixed prior hyperparameters for the\n",
    "        'beta': 1,   # beta distribution\n",
    "        'num_trials': 6,  # number of trials in the data set\n",
    "        'patients': [23, 16, 16, 45, 31, 10],  # number of patients per trial\n",
    "        'improved': [20, 10, 13, 35, 22, 7]},  # number of improved patients per trial\n",
    "    'control': {\n",
    "        'alpha': 1,\n",
    "        'beta': 1,\n",
    "        'num_trials': 6,\n",
    "        'patients': [15, 18, 10, 39, 29, 10],\n",
    "        'improved': [9, 11, 4, 21, 12, 0]}}"
   ]
  },
  {
   "cell_type": "markdown",
   "metadata": {},
   "source": [
    "## Old model\n",
    "* The same probability of success, $p$, is used in each study.\n",
    "* The probability of success is unknown and assumed to come from a uniform prior.\n",
    "\n",
    "$$\\begin{align}\n",
    "p &\\sim \\text{Beta}(\\alpha=1, \\beta=1) \\\\\n",
    "k_{i} &\\sim \\text{Binomial}(n_{i}, p) \\qquad i=1,2,\\ldots 6\n",
    "\\end{align}$$"
   ]
  },
  {
   "cell_type": "code",
   "execution_count": 3,
   "metadata": {},
   "outputs": [],
   "source": [
    "stan_code = \"\"\"\n",
    "\n",
    "// The data block contains all known quantities - typically the observed\n",
    "// data and any constant hyperparameters.\n",
    "data {\n",
    "    int<lower=1> num_trials;  // number of trials in the data set\n",
    "    int<lower=0> patients[num_trials];  // number of patients per trial\n",
    "    int<lower=0> improved[num_trials];  // number of improved patients per trial\n",
    "    real<lower=0> alpha;  // fixed prior hyperparameter\n",
    "    real<lower=0> beta;   // fixed prior hyperparameter\n",
    "}\n",
    "\n",
    "// The parameters block contains all unknown quantities - typically the\n",
    "// parameters of the model. Stan will generate samples from the posterior\n",
    "// distributions over all parameters.\n",
    "parameters {\n",
    "    real<lower=0,upper=1> p;  // probability of improvement - the\n",
    "                              // parameter of the binomial likelihood\n",
    "}\n",
    "\n",
    "// The model block contains all probability distributions in the model.\n",
    "// This of this as specifying the generative model for the scenario.\n",
    "model {\n",
    "    p ~ beta(alpha, beta);  // prior over p\n",
    "    for(i in 1:num_trials) {\n",
    "        improved[i] ~ binomial(patients[i], p);  // likelihood function\n",
    "    }\n",
    "}\n",
    "\n",
    "\"\"\""
   ]
  },
  {
   "cell_type": "code",
   "execution_count": 4,
   "metadata": {},
   "outputs": [
    {
     "name": "stderr",
     "output_type": "stream",
     "text": [
      "INFO:pystan:COMPILING THE C++ CODE FOR MODEL anon_model_ee893fad8aee952ea79ac031a6d3875a NOW.\n",
      "/usr/local/lib/python3.7/site-packages/Cython/Compiler/Main.py:367: FutureWarning: Cython directive 'language_level' not set, using 2 for now (Py2). This will change in a later release! File: /var/folders/k8/dkychj2n5c98xy85t13b1md40000gn/T/tmpwpr6ri5b/stanfit4anon_model_ee893fad8aee952ea79ac031a6d3875a_3597339337548162745.pyx\n",
      "  tree = Parsing.p_module(s, pxd, full_module_name)\n"
     ]
    }
   ],
   "source": [
    "# Compile model\n",
    "\n",
    "stan_model = pystan.StanModel(model_code=stan_code)"
   ]
  },
  {
   "cell_type": "code",
   "execution_count": 5,
   "metadata": {},
   "outputs": [
    {
     "data": {
      "image/png": "[encoded data removed]",
      "text/plain": [
       "<Figure size 576x288 with 1 Axes>"
      ]
     },
     "metadata": {
      "needs_background": "light"
     },
     "output_type": "display_data"
    },
    {
     "name": "stdout",
     "output_type": "stream",
     "text": [
      "Posterior 95% interval over p for treatment: [0.68269378 0.82353703]\n",
      "Posterior 95% interval over p for control: [0.38412847 0.56664315]\n"
     ]
    }
   ],
   "source": [
    "# Generate posterior samples\n",
    "\n",
    "results_treatment = stan_model.sampling(data=eczema_data['treatment'])\n",
    "results_control = stan_model.sampling(data=eczema_data['control'])\n",
    "\n",
    "# Plot posterior histograms\n",
    "\n",
    "samples_treatment = results_treatment.extract()\n",
    "samples_control = results_control.extract()\n",
    "\n",
    "plt.figure(figsize=(8,4))\n",
    "plt.hist(samples_treatment['p'], bins=50, density=True, label='treatment')\n",
    "plt.hist(samples_control['p'], bins=50, density=True, label='control')\n",
    "plt.title('Sampled posterior probability density for p')\n",
    "plt.legend()\n",
    "plt.show()\n",
    "\n",
    "print('Posterior 95% interval over p for treatment:', np.percentile(samples_treatment['p'], [2.5, 97.5]))\n",
    "print('Posterior 95% interval over p for control:', np.percentile(samples_control['p'], [2.5, 97.5]))"
   ]
  },
  {
   "cell_type": "markdown",
   "metadata": {},
   "source": [
    "## New model\n",
    "* A different probability of success, $p_i$, is used in each study.\n",
    "* However these probabilities are assumed to come from a common Beta prior with unknown parameters $\\alpha$ and $\\beta$.\n",
    "* An exponential prior is placed over $\\alpha$ and $\\beta$ such that almost all of the probability mass is between 0 and 10.\n",
    "\n",
    "$$\\begin{align}\n",
    "\\alpha &\\sim \\text{Exponential}(\\lambda=0.5) \\\\\n",
    "\\beta &\\sim \\text{Exponential}(\\lambda=0.5) \\\\\n",
    "p_i &\\sim \\text{Beta}(\\alpha, \\beta)\\\\\n",
    "k_{i} &\\sim \\text{Binomial}(n_{i}, p_i) \\qquad i=1,2,\\ldots 6\n",
    "\\end{align}$$"
   ]
  },
  {
   "cell_type": "code",
   "execution_count": 6,
   "metadata": {},
   "outputs": [],
   "source": [
    "stan_code = \"\"\"\n",
    "\n",
    "data {\n",
    "    int<lower=1> num_trials;  // number of trials in the data set\n",
    "    int<lower=0> patients[num_trials];  // number of patients per trial\n",
    "    int<lower=0> improved[num_trials];  // number of improved patients per trial\n",
    "}\n",
    "\n",
    "parameters {\n",
    "    real<lower=0,upper=1> p[num_trials];\n",
    "    real<lower=0> alpha;\n",
    "    real<lower=0> beta;\n",
    "}\n",
    "\n",
    "model {\n",
    "    alpha ~ exponential(0.5);\n",
    "    beta ~ exponential(0.5);\n",
    "    for(i in 1:num_trials) {\n",
    "        p[i] ~ beta(alpha, beta);\n",
    "      improved[i] ~ binomial(patients[i], p[i]);\n",
    "    }\n",
    "}\n",
    "\n",
    "\"\"\""
   ]
  },
  {
   "cell_type": "code",
   "execution_count": 7,
   "metadata": {},
   "outputs": [
    {
     "name": "stderr",
     "output_type": "stream",
     "text": [
      "INFO:pystan:COMPILING THE C++ CODE FOR MODEL anon_model_d9f2012fd953c8933e83db8c44be56dc NOW.\n",
      "/usr/local/lib/python3.7/site-packages/Cython/Compiler/Main.py:367: FutureWarning: Cython directive 'language_level' not set, using 2 for now (Py2). This will change in a later release! File: /var/folders/k8/dkychj2n5c98xy85t13b1md40000gn/T/tmpnnd4dcl3/stanfit4anon_model_d9f2012fd953c8933e83db8c44be56dc_3792255853951534656.pyx\n",
      "  tree = Parsing.p_module(s, pxd, full_module_name)\n"
     ]
    }
   ],
   "source": [
    "# Compile model\n",
    "\n",
    "stan_model = pystan.StanModel(model_code=stan_code)"
   ]
  },
  {
   "cell_type": "code",
   "execution_count": 8,
   "metadata": {},
   "outputs": [],
   "source": [
    "# Generate posterior samples\n",
    "\n",
    "results_treatment = stan_model.sampling(data=eczema_data['treatment'])\n",
    "results_control = stan_model.sampling(data=eczema_data['control'])"
   ]
  },
  {
   "cell_type": "code",
   "execution_count": 9,
   "metadata": {},
   "outputs": [
    {
     "name": "stdout",
     "output_type": "stream",
     "text": [
      "\n",
      "Treatment group results:\n",
      "\n",
      "Inference for Stan model: anon_model_d9f2012fd953c8933e83db8c44be56dc.\n",
      "4 chains, each with iter=2000; warmup=1000; thin=1; \n",
      "post-warmup draws per chain=1000, total post-warmup draws=4000.\n",
      "\n",
      "        mean se_mean     sd   2.5%  97.5%  n_eff   Rhat\n",
      "p[1]    0.83  1.0e-3   0.07   0.68   0.94   4586    1.0\n",
      "p[2]    0.65  1.6e-3    0.1   0.45   0.83   3836    1.0\n",
      "p[3]    0.79  1.3e-3   0.09   0.59   0.93   4227    1.0\n",
      "p[4]    0.77  8.8e-4   0.06   0.65   0.87   4428    1.0\n",
      "p[5]    0.71  1.2e-3   0.08   0.55   0.84   4184    1.0\n",
      "p[6]    0.71  1.6e-3   0.11   0.47    0.9   4791    1.0\n",
      "alpha   5.25    0.05   2.61   1.47  11.68   2636    1.0\n",
      "beta    2.06    0.02   1.02    0.6   4.53   2537    1.0\n",
      "\n",
      "Samples were drawn using NUTS at Fri Oct 19 12:11:07 2018.\n",
      "For each parameter, n_eff is a crude measure of effective sample size,\n",
      "and Rhat is the potential scale reduction factor on split chains (at \n",
      "convergence, Rhat=1).\n",
      "\n",
      "Control group results:\n",
      "\n",
      "Inference for Stan model: anon_model_d9f2012fd953c8933e83db8c44be56dc.\n",
      "4 chains, each with iter=2000; warmup=1000; thin=1; \n",
      "post-warmup draws per chain=1000, total post-warmup draws=4000.\n",
      "\n",
      "        mean se_mean     sd   2.5%  97.5%  n_eff   Rhat\n",
      "p[1]    0.56  1.7e-3   0.11   0.34   0.78   4280    1.0\n",
      "p[2]    0.57  1.5e-3   0.11   0.37   0.78   4916    1.0\n",
      "p[3]    0.41  1.8e-3   0.13   0.17   0.67   4947    1.0\n",
      "p[4]    0.53  1.2e-3   0.08   0.38   0.67   4121    1.0\n",
      "p[5]    0.42  1.3e-3   0.08   0.26   0.58   4283    1.0\n",
      "p[6]    0.14  1.9e-3    0.1 4.1e-3   0.38   2999    1.0\n",
      "alpha   2.23    0.03   1.32   0.52   5.52   2180    1.0\n",
      "beta    2.89    0.03   1.61   0.74   6.86   2183    1.0\n",
      "\n",
      "Samples were drawn using NUTS at Fri Oct 19 12:11:07 2018.\n",
      "For each parameter, n_eff is a crude measure of effective sample size,\n",
      "and Rhat is the potential scale reduction factor on split chains (at \n",
      "convergence, Rhat=1).\n"
     ]
    }
   ],
   "source": [
    "# Print Stan summary of parameter posteriors\n",
    "\n",
    "print('\\nTreatment group results:\\n')\n",
    "print(results_treatment.stansummary(pars=['p', 'alpha', 'beta'], probs=[0.025, 0.975]))\n",
    "print('\\nControl group results:\\n')\n",
    "print(results_control.stansummary(pars=['p', 'alpha', 'beta'], probs=[0.025, 0.975]))"
   ]
  },
  {
   "cell_type": "code",
   "execution_count": 10,
   "metadata": {},
   "outputs": [
    {
     "data": {
      "image/png": "[encoded data removed]",
      "text/plain": [
       "<Figure size 576x288 with 1 Axes>"
      ]
     },
     "metadata": {
      "needs_background": "light"
     },
     "output_type": "display_data"
    },
    {
     "data": {
      "image/png": "[encoded data removed]",
      "text/plain": [
       "<Figure size 576x288 with 1 Axes>"
      ]
     },
     "metadata": {
      "needs_background": "light"
     },
     "output_type": "display_data"
    }
   ],
   "source": [
    "# Generate posterior samples\n",
    "\n",
    "results_treatment = stan_model.sampling(data=eczema_data['treatment'])\n",
    "results_control = stan_model.sampling(data=eczema_data['control'])\n",
    "\n",
    "# Plot posterior histograms\n",
    "\n",
    "samples_treatment = results_treatment.extract()\n",
    "samples_control = results_control.extract()\n",
    "\n",
    "plt.figure(figsize=(8,4))\n",
    "plt.hist(samples_treatment['alpha'], bins=50, density=True, label='alpha', alpha=0.5)\n",
    "plt.hist(samples_treatment['beta'], bins=50, density=True, label='beta', alpha=0.5)\n",
    "plt.title('Sampled posterior probability density for the treatment group')\n",
    "plt.legend()\n",
    "\n",
    "plt.figure(figsize=(8,4))\n",
    "plt.hist(samples_control['alpha'], bins=50, density=True, label='alpha', alpha=0.5)\n",
    "plt.hist(samples_control['beta'], bins=50, density=True, label='beta', alpha=0.5)\n",
    "plt.title('Sampled posterior probability density for the control group')\n",
    "plt.legend()\n",
    "\n",
    "plt.show()"
   ]
  },
  {
   "cell_type": "code",
   "execution_count": 11,
   "metadata": {},
   "outputs": [
    {
     "data": {
      "image/png": "[encoded data removed]",
      "text/plain": [
       "<Figure size 576x288 with 1 Axes>"
      ]
     },
     "metadata": {
      "needs_background": "light"
     },
     "output_type": "display_data"
    },
    {
     "data": {
      "image/png": "[encoded data removed]",
      "text/plain": [
       "<Figure size 576x288 with 1 Axes>"
      ]
     },
     "metadata": {
      "needs_background": "light"
     },
     "output_type": "display_data"
    }
   ],
   "source": [
    "# Posterior histograms over the probabilities of success\n",
    "\n",
    "plt.figure(figsize=(8,4))\n",
    "for i in range(6):\n",
    "    plt.hist(samples_treatment['p'][:,i], bins=50, density=True, alpha=0.33)\n",
    "plt.title('Sampled posterior probability density for the treatment group')\n",
    "\n",
    "plt.figure(figsize=(8,4))\n",
    "for i in range(6):\n",
    "    plt.hist(samples_control['p'][:,i], bins=50, density=True, alpha=0.33)\n",
    "plt.title('Sampled posterior probability density for the control group')\n",
    "\n",
    "plt.show()"
   ]
  },
  {
   "cell_type": "code",
   "execution_count": 12,
   "metadata": {},
   "outputs": [
    {
     "name": "stderr",
     "output_type": "stream",
     "text": [
      "INFO:pystan:COMPILING THE C++ CODE FOR MODEL anon_model_ed12b60d4e79f489850662e92c114122 NOW.\n",
      "/usr/local/lib/python3.7/site-packages/Cython/Compiler/Main.py:367: FutureWarning: Cython directive 'language_level' not set, using 2 for now (Py2). This will change in a later release! File: /var/folders/k8/dkychj2n5c98xy85t13b1md40000gn/T/tmpev_17cmw/stanfit4anon_model_ed12b60d4e79f489850662e92c114122_2060388122562220537.pyx\n",
      "  tree = Parsing.p_module(s, pxd, full_module_name)\n"
     ]
    }
   ],
   "source": [
    "import pickle\n",
    "import pystan\n",
    "\n",
    "# bernoulli model\n",
    "model_code = \"\"\"\n",
    "    data {\n",
    "      int<lower=0> N;\n",
    "      int<lower=0,upper=1> y[N];\n",
    "    }\n",
    "    parameters {\n",
    "      real<lower=0,upper=1> theta;\n",
    "    }\n",
    "    model {\n",
    "      for (n in 1:N)\n",
    "          y[n] ~ bernoulli(theta);\n",
    "    }\n",
    "    \"\"\"\n",
    "data = dict(N=10, y=[0, 1, 0, 0, 0, 0, 0, 0, 0, 1])\n",
    "model = pystan.StanModel(model_code=model_code)\n",
    "fit = model.sampling(data=data)\n",
    "\n",
    "with open('model.pkl', 'wb') as f:\n",
    "    pickle.dump(model, f, protocol=pickle.HIGHEST_PROTOCOL)\n",
    "\n",
    "# load it at some future point\n",
    "with open('model.pkl', 'rb') as f:\n",
    "    model = pickle.load(f)\n",
    "\n",
    "# run with different data\n",
    "fit = model.sampling(data=dict(N=5, y=[1, 1, 0, 1, 0]))"
   ]
  },
  {
   "cell_type": "code",
   "execution_count": null,
   "metadata": {},
   "outputs": [],
   "source": []
  }
 ],
 "metadata": {
  "kernelspec": {
   "display_name": "Python 3",
   "language": "python",
   "name": "python3"
  },
  "language_info": {
   "codemirror_mode": {
    "name": "ipython",
    "version": 3
   },
   "file_extension": ".py",
   "mimetype": "text/x-python",
   "name": "python",
   "nbconvert_exporter": "python",
   "pygments_lexer": "ipython3",
   "version": "3.7.0"
  }
 },
 "nbformat": 4,
 "nbformat_minor": 1
}
