{
 "cells": [
  {
   "cell_type": "markdown",
   "metadata": {},
   "source": [
    "# Implement models in Stan"
   ]
  },
  {
   "cell_type": "markdown",
   "metadata": {},
   "source": [
    "## Call center data set — exponential likelihood with gamma prior"
   ]
  },
  {
   "cell_type": "code",
   "execution_count": 1,
   "metadata": {},
   "outputs": [],
   "source": [
    "# import libraries\n",
    "import numpy as np\n",
    "from scipy import stats\n",
    "import matplotlib.pyplot as plt\n",
    "import pystan\n",
    "\n",
    "# load call center data set\n",
    "waiting_times_day = np.loadtxt('call_center.csv')"
   ]
  },
  {
   "cell_type": "code",
   "execution_count": 2,
   "metadata": {},
   "outputs": [
    {
     "name": "stdout",
     "output_type": "stream",
     "text": [
      "892 call during 11th hour.\n"
     ]
    }
   ],
   "source": [
    "# data pre-processing\n",
    "current_time = 0\n",
    "waiting_times_per_hour = [[] for _ in range(24)]  # Make 24 empty lists, one per hour\n",
    "for t in waiting_times_day:\n",
    "    current_hour = int(current_time // 60)\n",
    "    current_time += t\n",
    "    waiting_times_per_hour[current_hour].append(t)\n",
    "\n",
    "# get data for 11th hour\n",
    "waiting_times_hour = waiting_times_per_hour[11]\n",
    "print(\"{:d} call during 11th hour.\".format(len(waiting_times_hour)))"
   ]
  },
  {
   "cell_type": "code",
   "execution_count": 3,
   "metadata": {},
   "outputs": [
    {
     "name": "stderr",
     "output_type": "stream",
     "text": [
      "INFO:pystan:COMPILING THE C++ CODE FOR MODEL anon_model_c0ad0931853126a0e6315f43bcb9f559 NOW.\n",
      "/usr/local/lib/python3.7/site-packages/Cython/Compiler/Main.py:367: FutureWarning: Cython directive 'language_level' not set, using 2 for now (Py2). This will change in a later release! File: /var/folders/k8/dkychj2n5c98xy85t13b1md40000gn/T/tmp9iwjqu7c/stanfit4anon_model_c0ad0931853126a0e6315f43bcb9f559_7142811583325279888.pyx\n",
      "  tree = Parsing.p_module(s, pxd, full_module_name)\n"
     ]
    }
   ],
   "source": [
    "stan_code = \"\"\"\n",
    "\n",
    "data {\n",
    "    real<lower=0> alpha;   // prior hyperparameters for gamma \n",
    "    real<lower=0> beta;   // prior hyperparameters for gamma \n",
    "    int<lower=0> n;   // number of call during the hour\n",
    "    vector[n] waiting_times_hour;   // call waiting times\n",
    "}\n",
    "\n",
    "parameters {\n",
    "    real lambda;  // the probability of call\n",
    "}\n",
    "\n",
    "model {\n",
    "    lambda ~ gamma(alpha, beta);\n",
    "    waiting_times_hour ~ exponential(lambda);\n",
    "}\n",
    "\n",
    "\"\"\"\n",
    "\n",
    "exponential_gamma_stan_model = pystan.StanModel(model_code=stan_code)"
   ]
  },
  {
   "cell_type": "code",
   "execution_count": 4,
   "metadata": {},
   "outputs": [
    {
     "name": "stdout",
     "output_type": "stream",
     "text": [
      "Inference for Stan model: anon_model_c0ad0931853126a0e6315f43bcb9f559.\n",
      "4 chains, each with iter=2000; warmup=1000; thin=1; \n",
      "post-warmup draws per chain=1000, total post-warmup draws=4000.\n",
      "\n",
      "         mean se_mean     sd   2.5%    25%    50%    75%  97.5%  n_eff   Rhat\n",
      "lambda  14.88    0.01    0.5  13.92  14.55  14.88  15.22  15.86   1216    1.0\n",
      "lp__   1513.7    0.01   0.68 1511.8 1513.5 1514.0 1514.1 1514.2   2047    1.0\n",
      "\n",
      "Samples were drawn using NUTS at Fri Oct 19 21:22:31 2018.\n",
      "For each parameter, n_eff is a crude measure of effective sample size,\n",
      "and Rhat is the potential scale reduction factor on split chains (at \n",
      "convergence, Rhat=1).\n"
     ]
    }
   ],
   "source": [
    "stan_data = {\n",
    "    \"alpha\": 1,\n",
    "    \"beta\": 0.25,\n",
    "    \"n\": len(waiting_times_hour),\n",
    "    \"waiting_times_hour\": waiting_times_hour,\n",
    "}\n",
    "\n",
    "results = exponential_gamma_stan_model.sampling(data=stan_data)\n",
    "print(results)"
   ]
  },
  {
   "cell_type": "code",
   "execution_count": 5,
   "metadata": {},
   "outputs": [
    {
     "data": {
      "image/png": "[encoded data removed]",
      "text/plain": [
       "<Figure size 432x288 with 1 Axes>"
      ]
     },
     "metadata": {
      "needs_background": "light"
     },
     "output_type": "display_data"
    },
    {
     "name": "stdout",
     "output_type": "stream",
     "text": [
      "Posterior 95% interval over lambda: [13.91888387 15.86209869]\n"
     ]
    }
   ],
   "source": [
    "samples = results.extract()\n",
    "\n",
    "# plot posterior histograms\n",
    "plt.hist(samples['lambda'], bins=50, density=True, label='treatment')\n",
    "plt.title('Sampled posterior probability density for lambda')\n",
    "plt.xlabel('λ')\n",
    "plt.ylabel('probability density')\n",
    "plt.legend()\n",
    "plt.show()\n",
    "\n",
    "# posterior 95% confidence interval\n",
    "print('Posterior 95% interval over lambda:', np.percentile(samples['lambda'], [2.5, 97.5]))"
   ]
  },
  {
   "cell_type": "markdown",
   "metadata": {},
   "source": [
    "## Normal likelihood with normal-inverse-gamma prior"
   ]
  },
  {
   "cell_type": "code",
   "execution_count": 6,
   "metadata": {},
   "outputs": [
    {
     "name": "stdout",
     "output_type": "stream",
     "text": [
      "200 data\n"
     ]
    }
   ],
   "source": [
    "# import libraries\n",
    "import numpy as np\n",
    "import matplotlib.pyplot as plt\n",
    "from scipy import stats\n",
    "\n",
    "# load data\n",
    "data = np.array([3.54551763569501, 4.23799861761927, 4.72138425951628, -0.692265320368236, 3.04473513808788, 3.10721270732507, 3.42982225852764, 3.12153903971176, 3.60532628639808, 2.46561737557325, 1.64059465916131, 2.4621623937158, 2.76744495617481, 2.11580054750407, 5.14077208608354, 4.90288499104252, 1.43357579078348, 4.78997817363558, 1.93633438207439, 2.43698838097178, 3.95389148701877, 2.4242295507716, 2.90256268679023, 2.90931728045901, 0.658072819386888, 3.05946763895983, 3.42615331539605, 2.68842833004417, 2.35850130765166, 2.20014998540933, 4.73846511350084, 4.19839721414451, 2.11805510171691, -0.572742936038015, 0.389413982010623, 3.87846130744249, 1.34057656890858, 0.7235748351719, 5.11042369840174, 4.00747556696571, 3.18080956726965, 3.24677964069676, 5.1154659863626, 1.80276616697155, 0.305877679021404, -0.449168307882718, 4.63705561194774, 1.37783714058301, 4.9608149859515, 6.7764195802069, 1.75515522922399, 7.04457337435215, 0.625185284955128, 2.25130734369064, 2.19770178119255, 2.16858257249432, 6.25367644481438, 0.116081323476489, 2.06315857864341, 1.82409781471718, 5.15226741230987, 2.03408231293173, -1.12450854337596, 5.03511270642234, 2.03841989653263, 5.80911741751597, 2.31718128783245, 4.97575010580997, 3.34262752222776, -0.786983904253601, 0.777362359850013, 0.975825009321195, 3.76354577515958, 7.27215002907876, 1.35404089480189, 3.76567940257157, 3.48573993343334, 1.85976988586156, 1.93567061960716, 5.31071812003942, 2.96832987672751, 3.32378908637275, 2.61631960054551, 5.80897964052825, 4.95215217171488, 1.32036772796131, 3.79932542233371, 3.08108492766309, 2.6734110081666, -0.14251851138521, 2.48744375588965, 3.98463042123415, 6.32781680028, 4.0029172024315, 4.23210369459457, 1.71412938967325, 5.16492114963802, 2.53409673107906, 4.77346963973334, 3.34088878725551, 4.77681472750664, 3.81135755590976, 1.14054269983137, 1.42057452397702, 0.132142311125433, 7.12577254064672, 4.85422012781764, 4.15745720676399, 4.48763147363348, 1.56060322283629, 2.64821761542887, 1.26655351354548, 4.48497722937931, 4.3286302403783, 4.26157679512625, 4.0597558651364, 5.14051109132496, 2.5660348362221, 1.10764013818617, 0.386889523012303, 3.54150473246237, 3.57480214382351, 1.95150869584847, 2.70688970563118, 2.47971849820016, 6.50838037000679, 4.01511556826974, 1.11562740835344, 5.02637639472439, 4.38184491686864, 5.60423144047386, 2.40067408379298, 5.7849941378344, 2.37225791084559, 6.86031465910273, 4.09214858239736, 6.85994063692621, 3.62202415158781, -1.11220646958158, 3.73920971696866, 3.24533871512216, 1.28724203643002, 0.291152541773164, 0.368630935755111, 6.71607270510525, 5.42278455200833, 5.35188416119281, 2.305874586163, -1.85878097203032, 2.69877382351447, 4.84121860550417, 4.40973060799391, 5.04399320650774, 2.68632252661298, 6.06531610659912, 3.11881325011993, 3.45532087005125, 3.08442259840346, 4.43564424136733, 2.84252623135804, 1.50536798885106, 1.48868622407603, 2.07322837615663, 2.5476910210998, 5.66941808257884, 2.16731067416426, 2.49843958833905, 3.94586413879977, 0.316433764679541, -0.608937441815983, 2.5943436558557, 1.05516869528337, 2.1447601332725, 6.65846634141906, 2.1771555267834, 5.23953812029442, 3.53629759842647, 6.03263538017003, 3.85739159396599, 5.95093453004638, 1.12856987160476, 3.5559912886093, 2.21974864244489, 3.38471394882135, -1.90805399279409, 3.5113699258973, 4.49319955412346, 5.10507952638867, 1.08277895384184, 4.58403638422759, 1.37304994426824, 4.17566975753523, 3.36454182510378, 0.177136582644021, 2.91337423388405, 3.22796455457526, 2.80124198378441, 1.95189718582788, 3.37659263896246, -1.6463045238231])\n",
    "print(len(data), \"data\")"
   ]
  },
  {
   "cell_type": "code",
   "execution_count": 7,
   "metadata": {
    "scrolled": false
   },
   "outputs": [
    {
     "name": "stderr",
     "output_type": "stream",
     "text": [
      "INFO:pystan:COMPILING THE C++ CODE FOR MODEL anon_model_c6f7bd945788c72a51d3425ce712ba75 NOW.\n",
      "/usr/local/lib/python3.7/site-packages/Cython/Compiler/Main.py:367: FutureWarning: Cython directive 'language_level' not set, using 2 for now (Py2). This will change in a later release! File: /var/folders/k8/dkychj2n5c98xy85t13b1md40000gn/T/tmphtfut0kz/stanfit4anon_model_c6f7bd945788c72a51d3425ce712ba75_6437476439639438699.pyx\n",
      "  tree = Parsing.p_module(s, pxd, full_module_name)\n"
     ]
    }
   ],
   "source": [
    "stan_code = \"\"\"\n",
    "\n",
    "data {\n",
    "    real<lower=0> mu;\n",
    "    real<lower=0> nu;\n",
    "    real<lower=0> alpha;   // prior hyperparameters for gamma \n",
    "    real<lower=0> beta;   // prior hyperparameters for gamma \n",
    "    int<lower=0> n;   // length of data\n",
    "    vector[n] data_set;   // data\n",
    "}\n",
    "\n",
    "parameters {\n",
    "    real sigma2;\n",
    "    real x;\n",
    "}\n",
    "\n",
    "model {\n",
    "    sigma2 ~ inv_gamma(alpha, beta);\n",
    "    x ~ normal(mu, sigma2/nu);\n",
    "    data_set ~ normal(x, sqrt(sigma2));\n",
    "}\n",
    "\n",
    "\"\"\"\n",
    "\n",
    "normal_inverse_gamma_stan_model = pystan.StanModel(model_code=stan_code)"
   ]
  },
  {
   "cell_type": "code",
   "execution_count": 8,
   "metadata": {},
   "outputs": [
    {
     "name": "stdout",
     "output_type": "stream",
     "text": [
      "Inference for Stan model: anon_model_c6f7bd945788c72a51d3425ce712ba75.\n",
      "4 chains, each with iter=2000; warmup=1000; thin=1; \n",
      "post-warmup draws per chain=1000, total post-warmup draws=4000.\n",
      "\n",
      "         mean se_mean     sd   2.5%    25%    50%    75%  97.5%  n_eff   Rhat\n",
      "sigma2   3.59  6.3e-3   0.36   2.95   3.34   3.57   3.81   4.37   3240    1.0\n",
      "x        3.07  2.2e-3   0.13   2.81   2.98   3.07   3.15   3.33   3499    1.0\n",
      "lp__   -236.5    0.02   0.99 -239.1 -236.9 -236.1 -235.7 -235.5   1669    1.0\n",
      "\n",
      "Samples were drawn using NUTS at Fri Oct 19 21:23:06 2018.\n",
      "For each parameter, n_eff is a crude measure of effective sample size,\n",
      "and Rhat is the potential scale reduction factor on split chains (at \n",
      "convergence, Rhat=1).\n"
     ]
    }
   ],
   "source": [
    "stan_data = {\n",
    "    \"mu\": 0,\n",
    "    \"nu\": 0.054,\n",
    "    \"alpha\": 1.12,\n",
    "    \"beta\": 0.4,\n",
    "    \"n\": len(data),\n",
    "    \"data_set\": data,\n",
    "}\n",
    "\n",
    "results = normal_inverse_gamma_stan_model.sampling(data=stan_data)\n",
    "print(results)"
   ]
  },
  {
   "cell_type": "code",
   "execution_count": 9,
   "metadata": {},
   "outputs": [
    {
     "name": "stdout",
     "output_type": "stream",
     "text": [
      "Posterior 95% interval over x: [2.80565101 3.32521065]\n",
      "Posterior 95% interval over sigma2: [2.95328909 4.36981581]\n"
     ]
    },
    {
     "data": {
      "image/png": "[encoded data removed]",
      "text/plain": [
       "<Figure size 432x288 with 1 Axes>"
      ]
     },
     "metadata": {
      "needs_background": "light"
     },
     "output_type": "display_data"
    }
   ],
   "source": [
    "samples = results.extract()\n",
    "\n",
    "# posterior 95% confidence interval\n",
    "print('Posterior 95% interval over x:', np.percentile(samples['x'], [2.5, 97.5]))\n",
    "print('Posterior 95% interval over sigma2:', np.percentile(samples['sigma2'], [2.5, 97.5]))\n",
    "\n",
    "# Plot the normal distributions corresponding to the samples\n",
    "num_samples = 10\n",
    "plot_x = np.linspace(-15, 15, 500)\n",
    "for i in range(num_samples):\n",
    "    plot_y = stats.norm.pdf(plot_x, loc=np.random.choice(samples['x'], 1), scale=np.sqrt(np.random.choice(samples['sigma2'], 1)))\n",
    "    plt.plot(plot_x, plot_y)\n",
    "plt.title(\"{:d} samples from a normal-inverse-gamma posterior distribution\".format(num_samples))\n",
    "plt.show()"
   ]
  },
  {
   "cell_type": "markdown",
   "metadata": {},
   "source": [
    "## Log-normal HRTEM data"
   ]
  },
  {
   "cell_type": "code",
   "execution_count": 10,
   "metadata": {},
   "outputs": [
    {
     "data": {
      "image/png": "[encoded data removed]",
      "text/plain": [
       "<Figure size 432x288 with 1 Axes>"
      ]
     },
     "metadata": {
      "needs_background": "light"
     },
     "output_type": "display_data"
    },
    {
     "name": "stdout",
     "output_type": "stream",
     "text": [
      "500 data, min: 1.051827, max: 28.942578\n"
     ]
    },
    {
     "data": {
      "image/png": "[encoded data removed]",
      "text/plain": [
       "<Figure size 432x288 with 1 Axes>"
      ]
     },
     "metadata": {
      "needs_background": "light"
     },
     "output_type": "display_data"
    },
    {
     "name": "stdout",
     "output_type": "stream",
     "text": [
      "500 data, min: 0.050529, max: 3.365314\n"
     ]
    }
   ],
   "source": [
    "# import libraries\n",
    "import numpy as np\n",
    "import matplotlib.pyplot as plt\n",
    "from scipy import stats\n",
    "\n",
    "# load data\n",
    "data = np.loadtxt('hrtem.csv')\n",
    "plt.hist(data, bins=20)\n",
    "plt.title('Histogram of data set')\n",
    "plt.show()\n",
    "print('%i data, min: %f, max: %f' % (len(data), min(data), max(data)))\n",
    "\n",
    "# convert data into log data\n",
    "log_data = np.log(data)\n",
    "plt.hist(log_data, bins=np.linspace(0, 3.5, 15))\n",
    "plt.title('Histogram of log-transformed data set')\n",
    "plt.show()\n",
    "print('%i data, min: %f, max: %f' % (len(log_data), min(log_data), max(log_data)))"
   ]
  },
  {
   "cell_type": "code",
   "execution_count": 11,
   "metadata": {},
   "outputs": [
    {
     "name": "stdout",
     "output_type": "stream",
     "text": [
      "Inference for Stan model: anon_model_c6f7bd945788c72a51d3425ce712ba75.\n",
      "4 chains, each with iter=2000; warmup=1000; thin=1; \n",
      "post-warmup draws per chain=1000, total post-warmup draws=4000.\n",
      "\n",
      "         mean se_mean     sd   2.5%    25%    50%    75%  97.5%  n_eff   Rhat\n",
      "sigma2   0.49  5.2e-4   0.03   0.44   0.47   0.49   0.52   0.56   3708    1.0\n",
      "x        1.89  4.8e-4   0.03   1.83   1.87   1.89   1.91   1.96   4267    1.0\n",
      "lp__   -76.11    0.02   1.01 -78.76  -76.5  -75.8 -75.38 -75.12   1765    1.0\n",
      "\n",
      "Samples were drawn using NUTS at Fri Oct 19 21:23:07 2018.\n",
      "For each parameter, n_eff is a crude measure of effective sample size,\n",
      "and Rhat is the potential scale reduction factor on split chains (at \n",
      "convergence, Rhat=1).\n"
     ]
    }
   ],
   "source": [
    "stan_data = {\n",
    "    \"mu\": 2.3,\n",
    "    \"nu\": 0.1,\n",
    "    \"alpha\": 2,\n",
    "    \"beta\": 5,\n",
    "    \"n\": len(log_data),\n",
    "    \"data_set\": log_data,\n",
    "}\n",
    "\n",
    "results = normal_inverse_gamma_stan_model.sampling(data=stan_data)\n",
    "print(results)"
   ]
  },
  {
   "cell_type": "code",
   "execution_count": 12,
   "metadata": {},
   "outputs": [
    {
     "name": "stdout",
     "output_type": "stream",
     "text": [
      "Posterior 95% interval over x: [1.83014705 1.95525897]\n",
      "Posterior 95% interval over sigma2: [0.43690563 0.56046326]\n"
     ]
    },
    {
     "data": {
      "image/png": "[encoded data removed]",
      "text/plain": [
       "<Figure size 432x288 with 1 Axes>"
      ]
     },
     "metadata": {
      "needs_background": "light"
     },
     "output_type": "display_data"
    }
   ],
   "source": [
    "samples = results.extract()\n",
    "\n",
    "# posterior 95% confidence interval\n",
    "print('Posterior 95% interval over x:', np.percentile(samples['x'], [2.5, 97.5]))\n",
    "print('Posterior 95% interval over sigma2:', np.percentile(samples['sigma2'], [2.5, 97.5]))\n",
    "\n",
    "# Plot the normal distributions corresponding to the samples\n",
    "num_samples = 10\n",
    "plot_x = np.linspace(0, 6, 500)\n",
    "for i in range(num_samples):\n",
    "    plot_y = stats.norm.pdf(plot_x, loc=np.random.choice(samples['x'], 1), scale=np.sqrt(np.random.choice(samples['sigma2'], 1)))\n",
    "    plt.plot(plot_x, plot_y)\n",
    "plt.title(\"{:d} samples from a log-data normal-inverse-gamma posterior distribution\".format(num_samples))\n",
    "plt.show()"
   ]
  }
 ],
 "metadata": {
  "kernelspec": {
   "display_name": "Python 3",
   "language": "python",
   "name": "python3"
  },
  "language_info": {
   "codemirror_mode": {
    "name": "ipython",
    "version": 3
   },
   "file_extension": ".py",
   "mimetype": "text/x-python",
   "name": "python",
   "nbconvert_exporter": "python",
   "pygments_lexer": "ipython3",
   "version": "3.7.0"
  }
 },
 "nbformat": 4,
 "nbformat_minor": 2
}
