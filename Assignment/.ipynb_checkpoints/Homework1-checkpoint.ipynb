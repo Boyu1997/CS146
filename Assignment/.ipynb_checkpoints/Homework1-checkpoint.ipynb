{
 "cells": [
  {
   "cell_type": "markdown",
   "metadata": {},
   "source": [
    "## 1. Rules of probability theory\n",
    "### Question 1\n",
    "\\begin{align}\n",
    "P(A,B) & = P(A|B) P(B) \\\\\n",
    "       & = \\frac{P(A,B)}{P(B)} P(B) \\\\\n",
    "       & = P(A,B) \\\\\n",
    "\\end{align}\n",
    "Correct.\n",
    "\n",
    "### Question 2\n",
    "\\begin{align}\n",
    "P(A) & = P(A|B) P(B) + P(A|!B) P(!B) \\\\\n",
    "     & = \\frac{P(A,B)}{P(B)} P(B) + \\frac{P(A,!B)}{P(!B)} P(!B) \\\\\n",
    "     & = P(A,B) + P(A,!B) \\\\\n",
    "     & = P(A)\n",
    "\\end{align}\n",
    "Correct.\n",
    "\n",
    "### Question 3\n",
    "\\begin{align} \n",
    "P(A) & = P(A|B) P(B) + P(A|C) P(C) + P(A|D) + P(D) \\\\\n",
    "     & = P(A,B) + P(A,C) + P(A|D) + P(D)\n",
    "\\end{align}\n",
    "Incorrect.\n",
    "\n",
    "### Question 4\n",
    "\\begin{align} \n",
    "P(A|B) & = \\frac{P(B|A) P(A)}{P(B)} \\\\\n",
    "P(A|B) P(B) & = P(B|A) P(A) \\\\\n",
    "P(A,B) & = P(A,B)\n",
    "\\end{align}\n",
    "Correct.\n",
    "\n",
    "### Question 5\n",
    "\\begin{align}\n",
    "P(A|B) P(B) & = P(B|A) P(A) \\\\\n",
    "P(A,B) & = P(A,B)\n",
    "\\end{align}\n",
    "Correct."
   ]
  },
  {
   "cell_type": "markdown",
   "metadata": {},
   "source": [
    "## 2. Logarithms and probability distribution\n",
    "### Normal distribution\n",
    "\\begin{align}\n",
    "f & = \\frac{1}{\\sqrt{2\\pi\\sigma^2}}e^{-\\frac{(x-\\mu)^2}{2\\sigma^2}} \\\\\n",
    "log(f) & = log(\\frac{1}{\\sqrt{2\\pi\\sigma^2}}e^{-\\frac{(x-\\mu)^2}{2\\sigma^2}}) \\\\\n",
    "       & = log(e^{-\\frac{(x-\\mu)^2}{2\\sigma^2}}) - log(\\sqrt{2\\pi\\sigma^2}) \\\\\n",
    "       & = - \\frac{(x-\\mu)^2}{2\\sigma^2} - \\frac{\\pi\\sigma^2}{2}\n",
    "\\end{align}\n",
    "### Exponential distribution\n",
    "\\begin{align}\n",
    "f & = \\lambda e^{−\\lambda x} \\\\\n",
    "log(f) & = log(\\lambda e^{−\\lambda x}) \\\\\n",
    "       & = log(\\lambda) + log(e^{−\\lambda x}) \\\\\n",
    "       & = log(\\lambda) − \\lambda x\n",
    "\\end{align}\n",
    "### Gamma distribution\n",
    "\\begin{align}\n",
    "f & = \\frac{1}{\\Gamma(\\kappa)\\theta^\\kappa}x^{\\kappa-1}e^{-\\frac{x}{\\theta}} \\\\\n",
    "log(f) & = log(\\frac{1}{\\Gamma(\\kappa)\\theta^\\kappa}x^{\\kappa-1}e^{-\\frac{x}{\\theta}}) \\\\\n",
    "       & = log(x^{\\kappa-1}) + log(e^{-\\frac{x}{\\theta}}) - log(\\Gamma(\\kappa)\\theta^\\kappa) \\\\\n",
    "       & = (\\kappa-1) log(x) - \\frac{x}{\\theta} - log(\\Gamma(\\kappa)) - log(\\theta^\\kappa) \\\\\n",
    "       & = (\\kappa-1) log(x) - \\frac{x}{\\theta} - log(\\Gamma(\\kappa)) - \\kappa log(\\theta)\n",
    "\\end{align}"
   ]
  },
  {
   "cell_type": "markdown",
   "metadata": {},
   "source": [
    "## 3. Normal distribution\n",
    "### Question 1\n",
    "As $x$ is distributed according to the normal distribution, the expected value of $x$ is the mean $\\mu$, and as $f(x) = x^3 + 3$, the expected value of $f(x)$ is when $x = \\mu$, which is $\\mu^3 + 3$.\n",
    "### Question 2\n",
    "Calculate $P(f(x)\\geq0.5)$"
   ]
  },
  {
   "cell_type": "code",
   "execution_count": 42,
   "metadata": {},
   "outputs": [
    {
     "data": {
      "image/png": "[encoded data removed]",
      "text/plain": [
       "<Figure size 432x288 with 1 Axes>"
      ]
     },
     "metadata": {},
     "output_type": "display_data"
    },
    {
     "data": {
      "image/png": "[encoded data removed]",
      "text/plain": [
       "<Figure size 432x288 with 1 Axes>"
      ]
     },
     "metadata": {},
     "output_type": "display_data"
    }
   ],
   "source": [
    "from scipy.stats import norm\n",
    "import numpy as np\n",
    "import matplotlib.pyplot as plt\n",
    "import matplotlib.patches as mpatches\n",
    "\n",
    "x = np.linspace(-3, 3, 100)\n",
    "\n",
    "plt.plot(x, norm.pdf(x), 'k-')\n",
    "function_legend = mpatches.Patch(color='k', label='pdf of normal distribution')\n",
    "plt.legend(handles=[function_legend])\n",
    "plt.show()\n",
    "\n",
    "plt.plot(x, x**3+3, 'k-')\n",
    "plt.plot(x, [0.5 for _ in range(100)], 'b-')\n",
    "plt.plot(x, [0.5 for _ in range(100)], 'b-')\n",
    "plt.plot([-(2.5)**(1/3) for _ in range(100)], np.linspace(-30, 30, 100), 'r-')\n",
    "function_legend = mpatches.Patch(color='k', label='f(x) = x^3 + 3')\n",
    "x_legend = mpatches.Patch(color='b', label='x = 0.5')\n",
    "y_legend = mpatches.Patch(color='r', label='f(x) = -3√2.5')\n",
    "plt.legend(handles=[function_legend, x_legend, y_legend])\n",
    "plt.show()"
   ]
  },
  {
   "cell_type": "markdown",
   "metadata": {},
   "source": [
    "As shown in the plot, the $P(f(x)\\geq0.5)$ can be maped by the function $f(x) = x^3 + 3$ as\n",
    "$$P(x\\geq-\\sqrt[3]{2.5})$$\n",
    "Use the intergral of the pdf to calculate\n",
    "$$P(x\\geq-\\sqrt[3]{2.5}) = \\int_{-\\sqrt[3]{2.5}}^{\\infty} \\frac{1}{\\sqrt{2\\pi\\sigma^2}}e^{-\\frac{(x-\\mu)^2}{2\\sigma^2}} dx$$\n",
    "Calculate result for $\\mu = 0$ $\\sigma = 1$\n",
    "\\begin{align}\n",
    "P(f(x)\\geq0.5) & = \\int_{-\\sqrt[3]{2.5}}^{\\infty} \\frac{1}{\\sqrt{2\\pi}}e^{-\\frac{x^2}{2}} dx \\\\\n",
    "               & = 0.912643\n",
    "\\end{align}\n",
    "Calculate result for $\\mu = 10$ $\\sigma = 12$\n",
    "\\begin{align}\n",
    "P(f(x)\\geq0.5) & = \\int_{-\\sqrt[3]{2.5}}^{\\infty} \\frac{1}{\\sqrt{2\\pi12^2}}e^{-\\frac{(x-10)^2}{2\\times12^2}} dx \\\\\n",
    "               & = 0.828036\n",
    "\\end{align}\n",
    "Calculate result for $\\mu = -18$ $\\sigma = 5$\n",
    "\\begin{align}\n",
    "P(f(x)\\geq0.5) & = \\int_{-\\sqrt[3]{2.5}}^{\\infty} \\frac{1}{\\sqrt{2\\pi5^2}}e^{-\\frac{(x+18)^2}{2\\times5^2}} dx \\\\\n",
    "               & = 0.000436484\n",
    "\\end{align}"
   ]
  },
  {
   "cell_type": "code",
   "execution_count": 46,
   "metadata": {},
   "outputs": [
    {
     "name": "stdout",
     "output_type": "stream",
     "text": [
      "For μ=0, σ=1, and s=1000000, the simulated P(f(x)>0.5)=0.912027\n",
      "For μ=10, σ=12, and s=1000000, the simulated P(f(x)>0.5)=0.827906\n",
      "For μ=-18, σ=5, and s=1000000, the simulated P(f(x)>0.5)=0.000466\n"
     ]
    }
   ],
   "source": [
    "from scipy.stats import norm\n",
    "import numpy as np\n",
    "\n",
    "mu_set = [0, 10, -18]\n",
    "sigma_set = [1, 12, 5]\n",
    "sample_size = 1000000\n",
    "\n",
    "for mu, sigma in zip (mu_set, sigma_set):\n",
    "    distribution = norm(loc=mu, scale=sigma)\n",
    "    sample = distribution.rvs(size=sample_size)\n",
    "    success = 0\n",
    "    for i in range(0, sample_size):\n",
    "        sample[i] = sample[i]**3 + 3\n",
    "        if sample[i] > 0.5:\n",
    "            success += 1\n",
    "    print (\"For μ=%d, σ=%d, and s=%d, the simulated P(f(x)>0.5)=%.6f\" % (mu, sigma, sample_size, success/sample_size))"
   ]
  },
  {
   "cell_type": "markdown",
   "metadata": {},
   "source": [
    "The simulated result match the calculated result."
   ]
  },
  {
   "cell_type": "markdown",
   "metadata": {},
   "source": [
    "## 4. Marginal and conditional probabilities\n",
    "### Information\n",
    "\\begin{align}\n",
    "P(young) & = 0.273 \\\\\n",
    "P(unemployed | young) & = 0.382 \\\\\n",
    "P(unemployed | not young) & = 0.224\n",
    "\\end{align}\n",
    "\n",
    "### Questions\n",
    "\\begin{align}\n",
    "P(young) & = 0.273 \\\\\n",
    "P(not\\ young) & = 1 - 0.273 = 0.727 \\\\\n",
    "P(unemployed) & = 0.382 + 0.224 = 0.606 \\\\\n",
    "P(not\\ unemployed) & = 1 - 0.606 = 0.394 \\\\\n",
    "P(unemployed | young) & = 0.382 \\\\\n",
    "P(young | unemployed) & = P(young, unemployed) / P(unemployed) \\\\\n",
    "                      & = P(young) * P(unemployed | young) / P(unemployed) \\\\\n",
    "                      & = 0.273 * 0.382 / 0.606 = 0.172 \\\\\n",
    "P(unemployed | not\\ young) & = 0.224 \\\\\n",
    "P(not\\ young | unemployed) & = P(not\\ young, unemployed) / P(unemployed) \\\\\n",
    "                          & = P(not\\ young) * P(unemployed | not\\ young) / P(unemployed) \\\\\n",
    "                          & = 0.727 * 0.224 / 0.606 = 0.269\n",
    "\\end{align}"
   ]
  },
  {
   "cell_type": "markdown",
   "metadata": {},
   "source": [
    "## 5. Inference\n",
    "### Notation\n",
    "$R$ represents able to read at Grade 1 level by 6  years old\n",
    "\n",
    "$T$ represents training in pronouncing simple words and writing some letters\n",
    "\n",
    "### Information\n",
    "From the reasonable guess\n",
    "$$P(R) = 0.3$$\n",
    "From the educational expert\n",
    "\\begin{align}\n",
    "P(T|R) & = 0.6 \\\\\n",
    "P(T|!R) & = 0.1\n",
    "\\end{align}\n",
    "Through simple calculation\n",
    "\\begin{align}\n",
    "P(!R) & = 0.7 \\\\\n",
    "P(!T|R) & = 0.4 \\\\\n",
    "P(!T|!R) & = 0.9\n",
    "\\end{align}\n",
    "\n",
    "### Question 1\n",
    "Probability that Olivia will be able to read knowing she has training for reading\n",
    "\\begin{align}\n",
    "P(R|T) & = \\frac{P(T|R)P(R)}{P(T|R)P(R) + P(T|!R)P(!R)} \\\\\n",
    "       & = \\frac{0.6\\times0.3}{0.6\\times0.3 + 0.1\\times0.7} \\\\\n",
    "       & = \\frac{0.18}{0.18 + 0.07} \\\\\n",
    "       & = 0.72\n",
    "\\end{align}\n",
    "\n",
    "\n",
    "### Question 2\n",
    "The variables here are $R$ represents able to read at Grade 1 level by 6  years old, and $T$ represents training in pronouncing simple words and writing some letters.\n",
    "This is a Bayesian statistical modele, and we use the additional information (in this case $P(T|R) = 0.6$ and $P(T|!R) = 0.1$) to update the prior belief (in this case $P(R) = 0.3$) to the posterior belief after observing the new evidence (in this case $P(R|T) = 0.72$)."
   ]
  },
  {
   "cell_type": "markdown",
   "metadata": {},
   "source": [
    "## 6. Calculating probabilities\n",
    "### Questiom 1\n",
    "There are 14 students in this CS146 classroom.\n",
    "\n",
    "### Question 2\n",
    "As there are 14 students, the total number of permutation of birthday sequence is\n",
    "$$\\#\\ of\\ permutation = 14!$$\n",
    "The total number of permutation of birthday sequence is given I am the first or last is\n",
    "\\begin{align}\n",
    "\\#\\ of\\ permutation & = 1\\times13! \\\\\n",
    "                   & = 13!\n",
    "\\end{align}\n",
    "So the probility of me being the first of last in the birth sequence (equivalent to everyone else is older or everyone else is younger than me) is\n",
    "\\begin{align}\n",
    "P & = \\frac{13!}{14!} \\\\\n",
    "  & = \\frac{1}{14}\n",
    "\\end{align}"
   ]
  },
  {
   "cell_type": "markdown",
   "metadata": {},
   "source": [
    "## 7. Python script"
   ]
  },
  {
   "cell_type": "code",
   "execution_count": 57,
   "metadata": {},
   "outputs": [
    {
     "name": "stdout",
     "output_type": "stream",
     "text": [
      "The oldest in class: False\n",
      "The youngest in class: True\n",
      "Older than at least half in class in class: False\n"
     ]
    }
   ],
   "source": [
    "import numpy as np\n",
    "\n",
    "# generate 14 random number from a normal distribution\n",
    "# the number will represent how old each student is, which a larger number represent an older student\n",
    "# assume I am the first person in the generated population\n",
    "class_size = 14\n",
    "\n",
    "population = np.random.uniform(size = class_size)\n",
    "oldest = True\n",
    "youngest = True\n",
    "half_oldest = 0\n",
    "for i in range(1, class_size):\n",
    "    # there is no change of someone is exactly as old as me, but we will include = for implementation purpose\n",
    "    if population[0] <= population[i]: # if someone is older than me\n",
    "        oldest = False\n",
    "    else:\n",
    "        youngest = False\n",
    "        half_oldest += 1\n",
    "print (\"The oldest in class:\", oldest)\n",
    "print (\"The youngest in class:\", youngest)\n",
    "print (\"Older than at least half in class in class:\", (half_oldest/14)>0.5)"
   ]
  },
  {
   "cell_type": "code",
   "execution_count": 61,
   "metadata": {},
   "outputs": [
    {
     "name": "stdout",
     "output_type": "stream",
     "text": [
      "Simulated probility of the oldest in class: 0.07064\n",
      "Simulated probility of the youngest in class: 0.07272\n",
      "Simulated probility of older than half in class: 0.42824\n"
     ]
    }
   ],
   "source": [
    "import numpy as np\n",
    "\n",
    "class_size = 14\n",
    "repetition = 100000\n",
    "oldest_count = 0\n",
    "youngest_count = 0\n",
    "half_oldest_count = 0\n",
    "\n",
    "for _ in range(repetition):\n",
    "    population = np.random.uniform(size = class_size)\n",
    "    oldest = True\n",
    "    youngest = True\n",
    "    half_oldest = 0\n",
    "    for i in range(1, class_size):\n",
    "        # there is no change of someone is exactly as old as me, but we will include = for implementation purpose\n",
    "        if population[0] <= population[i]: # someone is older than me\n",
    "            oldest = False\n",
    "        else: # someone is younger than me\n",
    "            youngest = False\n",
    "            half_oldest += 1\n",
    "    if oldest:\n",
    "        oldest_count += 1\n",
    "    if youngest:\n",
    "        youngest_count += 1\n",
    "    if (half_oldest/14)>0.5:\n",
    "        half_oldest_count += 1\n",
    "    \n",
    "print (\"Simulated probility of the oldest in class:\", oldest_count/repetition)\n",
    "print (\"Simulated probility of the youngest in class:\", youngest_count/repetition)\n",
    "print (\"Simulated probility of older than half in class:\", half_oldest_count/repetition)"
   ]
  }
 ],
 "metadata": {
  "kernelspec": {
   "display_name": "Python 3",
   "language": "python",
   "name": "python3"
  }
 },
 "nbformat": 4,
 "nbformat_minor": 2
}
