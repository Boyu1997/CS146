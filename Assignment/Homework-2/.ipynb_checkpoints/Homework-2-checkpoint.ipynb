{
 "cells": [
  {
   "cell_type": "markdown",
   "metadata": {},
   "source": [
    "# Call center data modeling"
   ]
  },
  {
   "cell_type": "code",
   "execution_count": 1,
   "metadata": {},
   "outputs": [],
   "source": [
    "# import libraries\n",
    "import numpy as np\n",
    "from scipy import stats\n",
    "import matplotlib.pyplot as plt\n",
    "\n",
    "# load call center data set\n",
    "waiting_times_day = np.loadtxt('call_center.csv')"
   ]
  },
  {
   "cell_type": "code",
   "execution_count": 3,
   "metadata": {},
   "outputs": [
    {
     "name": "stdout",
     "output_type": "stream",
     "text": [
      "00:00-01:00 - 7 calls\n",
      "01:00-02:00 - 5 calls\n",
      "02:00-03:00 - 8 calls\n",
      "03:00-04:00 - 7 calls\n",
      "04:00-05:00 - 21 calls\n",
      "05:00-06:00 - 42 calls\n",
      "06:00-07:00 - 96 calls\n",
      "07:00-08:00 - 189 calls\n",
      "08:00-09:00 - 274 calls\n",
      "09:00-10:00 - 344 calls\n",
      "10:00-11:00 - 487 calls\n",
      "11:00-12:00 - 892 calls\n",
      "12:00-13:00 - 869 calls\n",
      "13:00-14:00 - 401 calls\n",
      "14:00-15:00 - 206 calls\n",
      "15:00-16:00 - 169 calls\n",
      "16:00-17:00 - 261 calls\n",
      "17:00-18:00 - 430 calls\n",
      "18:00-19:00 - 579 calls\n",
      "19:00-20:00 - 383 calls\n",
      "20:00-21:00 - 136 calls\n",
      "21:00-22:00 - 45 calls\n",
      "22:00-23:00 - 28 calls\n",
      "23:00-24:00 - 12 calls\n"
     ]
    }
   ],
   "source": [
    "# data pre-processing\n",
    "current_time = 0\n",
    "waiting_times_per_hour = [[] for _ in range(24)]  # Make 24 empty lists, one per hour\n",
    "for t in waiting_times_day:\n",
    "    current_hour = int(current_time // 60)\n",
    "    current_time += t\n",
    "    waiting_times_per_hour[current_hour].append(t)\n",
    "\n",
    "for hour, waiting_times_hour in enumerate(waiting_times_per_hour):\n",
    "    print('%02i:00-%02i:00 - %i calls' % (hour, hour + 1, len(waiting_times_hour)))"
   ]
  },
  {
   "cell_type": "code",
   "execution_count": 18,
   "metadata": {},
   "outputs": [
    {
     "name": "stdout",
     "output_type": "stream",
     "text": [
      "Posterior for hour 0 is: α = 8.00, β = 60.51\n",
      "95% confidence interval over λ: [0.06, 0.24]\n",
      "mean of λ: 0.13\n",
      "Posterior for hour 1 is: α = 6.00, β = 67.87\n",
      "95% confidence interval over λ: [0.03, 0.17]\n",
      "mean of λ: 0.09\n",
      "Posterior for hour 2 is: α = 9.00, β = 69.97\n",
      "95% confidence interval over λ: [0.06, 0.23]\n",
      "mean of λ: 0.13\n",
      "Posterior for hour 3 is: α = 8.00, β = 44.65\n",
      "95% confidence interval over λ: [0.08, 0.32]\n",
      "mean of λ: 0.18\n",
      "Posterior for hour 4 is: α = 22.00, β = 58.83\n",
      "95% confidence interval over λ: [0.23, 0.55]\n",
      "mean of λ: 0.37\n",
      "Posterior for hour 5 is: α = 43.00, β = 60.18\n",
      "95% confidence interval over λ: [0.52, 0.94]\n",
      "mean of λ: 0.71\n",
      "Posterior for hour 6 is: α = 97.00, β = 59.89\n",
      "95% confidence interval over λ: [1.31, 1.96]\n",
      "mean of λ: 1.62\n",
      "Posterior for hour 7 is: α = 190.00, β = 60.18\n",
      "95% confidence interval over λ: [2.72, 3.62]\n",
      "mean of λ: 3.16\n",
      "Posterior for hour 8 is: α = 275.00, β = 60.50\n",
      "95% confidence interval over λ: [4.02, 5.10]\n",
      "mean of λ: 4.55\n",
      "Posterior for hour 9 is: α = 345.00, β = 60.06\n",
      "95% confidence interval over λ: [5.15, 6.37]\n",
      "mean of λ: 5.74\n",
      "Posterior for hour 10 is: α = 488.00, β = 60.28\n",
      "95% confidence interval over λ: [7.39, 8.83]\n",
      "mean of λ: 8.10\n",
      "Posterior for hour 11 is: α = 893.00, β = 60.09\n",
      "95% confidence interval over λ: [13.90, 15.85]\n",
      "mean of λ: 14.86\n",
      "Posterior for hour 12 is: α = 870.00, β = 60.26\n",
      "95% confidence interval over λ: [13.49, 15.41]\n",
      "mean of λ: 14.44\n",
      "Posterior for hour 13 is: α = 402.00, β = 60.72\n",
      "95% confidence interval over λ: [5.99, 7.28]\n",
      "mean of λ: 6.62\n",
      "Posterior for hour 14 is: α = 207.00, β = 60.24\n",
      "95% confidence interval over λ: [2.98, 3.92]\n",
      "mean of λ: 3.44\n",
      "Posterior for hour 15 is: α = 170.00, β = 59.93\n",
      "95% confidence interval over λ: [2.43, 3.28]\n",
      "mean of λ: 2.84\n",
      "Posterior for hour 16 is: α = 262.00, β = 60.54\n",
      "95% confidence interval over λ: [3.82, 4.87]\n",
      "mean of λ: 4.33\n",
      "Posterior for hour 17 is: α = 431.00, β = 59.80\n",
      "95% confidence interval over λ: [6.54, 7.90]\n",
      "mean of λ: 7.21\n",
      "Posterior for hour 18 is: α = 580.00, β = 60.25\n",
      "95% confidence interval over λ: [8.86, 10.43]\n",
      "mean of λ: 9.63\n",
      "Posterior for hour 19 is: α = 384.00, β = 60.30\n",
      "95% confidence interval over λ: [5.75, 7.02]\n",
      "mean of λ: 6.37\n",
      "Posterior for hour 20 is: α = 137.00, β = 60.24\n",
      "95% confidence interval over λ: [1.91, 2.67]\n",
      "mean of λ: 2.27\n",
      "Posterior for hour 21 is: α = 46.00, β = 66.21\n",
      "95% confidence interval over λ: [0.51, 0.91]\n",
      "mean of λ: 0.69\n",
      "Posterior for hour 22 is: α = 29.00, β = 63.24\n",
      "95% confidence interval over λ: [0.31, 0.64]\n",
      "mean of λ: 0.46\n",
      "Posterior for hour 23 is: α = 13.00, β = 53.39\n",
      "95% confidence interval over λ: [0.13, 0.39]\n",
      "mean of λ: 0.24\n"
     ]
    }
   ],
   "source": [
    "alpha_per_hour = []\n",
    "beta_per_hour = []\n",
    "posterior_per_hour = []\n",
    "\n",
    "for hour, waiting_times_hour in enumerate(waiting_times_per_hour):\n",
    "    \n",
    "    # set prior hyperparameters\n",
    "    alpha_0 = 1\n",
    "    beta_0 = 0.25\n",
    "    \n",
    "    # calculate posterior hyperparameters\n",
    "    alpha = alpha_0 + len(waiting_times_hour)\n",
    "    beta = beta_0 + sum(waiting_times_hour)\n",
    "    print(\"Posterior for hour {:d} is: α = {:.2f}, β = {:.2f}\".format(hour, alpha, beta))\n",
    "    \n",
    "    # create posterior distribution\n",
    "    posterior = stats.gamma(a=alpha, scale=1/beta)\n",
    "    print (\"95% confidence interval over λ: [{:.2f}, {:.2f}]\".format(posterior.ppf(0.025), posterior.ppf(0.975)))\n",
    "    print (\"mean of λ: {:.2f}\".format(posterior.mean()))\n",
    "    # add data to set\n",
    "    alpha_per_hour.append(alpha)\n",
    "    beta_per_hour.append(beta)\n",
    "    posterior_per_hour.append(posterior)"
   ]
  },
  {
   "cell_type": "code",
   "execution_count": 42,
   "metadata": {},
   "outputs": [
    {
     "data": {
      "image/png": "[encoded data removed]",
      "text/plain": [
       "<Figure size 720x576 with 1 Axes>"
      ]
     },
     "metadata": {},
     "output_type": "display_data"
    }
   ],
   "source": [
    "mean_per_hour = [post.mean() for post in posterior_per_hour]\n",
    "confidence_95_per_hour = [post.mean() - post.ppf(0.025) for post in posterior_per_hour]\n",
    "\n",
    "plt.rcParams['figure.figsize'] = [10, 8]\n",
    "plt.errorbar(x=list(range(0, 24)), y=mean_per_hour, yerr=confidence_95_per_hour, fmt='o')\n",
    "plt.title(\"95% confidence interval of λ for all 24 hours of the day\")\n",
    "plt.xlabel(\"hour of the day\")\n",
    "plt.xticks(list(range(0, 24)))\n",
    "plt.ylabel(\"λ value\")\n",
    "plt.show()"
   ]
  },
  {
   "cell_type": "code",
   "execution_count": null,
   "metadata": {},
   "outputs": [],
   "source": [
    "# Stretch goal"
   ]
  },
  {
   "cell_type": "code",
   "execution_count": null,
   "metadata": {},
   "outputs": [],
   "source": []
  }
 ],
 "metadata": {
  "kernelspec": {
   "display_name": "Python 3",
   "language": "python",
   "name": "python3"
  },
  "language_info": {
   "codemirror_mode": {
    "name": "ipython",
    "version": 3
   },
   "file_extension": ".py",
   "mimetype": "text/x-python",
   "name": "python",
   "nbconvert_exporter": "python",
   "pygments_lexer": "ipython3",
   "version": "3.6.4"
  }
 },
 "nbformat": 4,
 "nbformat_minor": 2
}
