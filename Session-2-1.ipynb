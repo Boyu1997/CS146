{
 "cells": [
  {
   "cell_type": "markdown",
   "metadata": {},
   "source": [
    "## Pre-class\n",
    "### Poisson distribution\n",
    "The probability of $x = 4$ if $\\lambda = 2.5$\n",
    "$$P(x=k) = e^{-\\lambda}\\frac{\\lambda^k}{k!} = e^{-2.5}\\frac{2.5^4}{4!} = 0.1336$$\n",
    "The probability $x > 2$ if $\\lambda = 1.5$\n",
    "$$P(x>k) = \\int_{k}^{\\infty}e^{-\\lambda}\\frac{\\lambda^k}{k!} =  \\int_{2}^{\\infty}e^{-1.5}\\frac{1.5^2}{2!} = \\infty$$\n",
    "Incorrect...\n",
    "\n",
    "### Gamma distribution\n"
   ]
  },
  {
   "cell_type": "code",
   "execution_count": null,
   "metadata": {},
   "outputs": [],
   "source": []
  }
 ],
 "metadata": {
  "kernelspec": {
   "display_name": "Python 3",
   "language": "python",
   "name": "python3"
  },
  "language_info": {
   "codemirror_mode": {
    "name": "ipython",
    "version": 3
   },
   "file_extension": ".py",
   "mimetype": "text/x-python",
   "name": "python",
   "nbconvert_exporter": "python",
   "pygments_lexer": "ipython3",
   "version": "3.6.4"
  }
 },
 "nbformat": 4,
 "nbformat_minor": 2
}
